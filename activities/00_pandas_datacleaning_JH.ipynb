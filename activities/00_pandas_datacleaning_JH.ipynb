{
 "cells": [
  {
   "cell_type": "markdown",
   "metadata": {},
   "source": [
    "## 0. Load imports "
   ]
  },
  {
   "cell_type": "code",
   "execution_count": 83,
   "metadata": {},
   "outputs": [],
   "source": [
    "## imports\n",
    "import pandas as pd\n",
    "import numpy as np\n",
    "\n",
    "\n",
    "# ## print multiple things from same cell\n",
    "# from IPython.core.interactiveshell import InteractiveShell\n",
    "# InteractiveShell.ast_node_interactivity = \"all\""
   ]
  },
  {
   "cell_type": "markdown",
   "metadata": {},
   "source": [
    "## 0. Load data"
   ]
  },
  {
   "cell_type": "code",
   "execution_count": 84,
   "metadata": {},
   "outputs": [
    {
     "name": "stdout",
     "output_type": "stream",
     "text": [
      "<class 'pandas.core.frame.DataFrame'>\n",
      "RangeIndex: 27933 entries, 0 to 27932\n",
      "Data columns (total 25 columns):\n",
      " #   Column                Non-Null Count  Dtype  \n",
      "---  ------                --------------  -----  \n",
      " 0   X                     27933 non-null  float64\n",
      " 1   Y                     27933 non-null  float64\n",
      " 2   CCN                   27933 non-null  int64  \n",
      " 3   REPORT_DAT            27933 non-null  object \n",
      " 4   SHIFT                 27933 non-null  object \n",
      " 5   METHOD                27933 non-null  object \n",
      " 6   OFFENSE               27933 non-null  object \n",
      " 7   BLOCK                 27933 non-null  object \n",
      " 8   XBLOCK                27933 non-null  float64\n",
      " 9   YBLOCK                27933 non-null  float64\n",
      " 10  WARD                  27933 non-null  int64  \n",
      " 11  ANC                   27933 non-null  object \n",
      " 12  DISTRICT              27904 non-null  float64\n",
      " 13  PSA                   27898 non-null  float64\n",
      " 14  NEIGHBORHOOD_CLUSTER  27933 non-null  object \n",
      " 15  BLOCK_GROUP           27932 non-null  object \n",
      " 16  CENSUS_TRACT          27932 non-null  float64\n",
      " 17  VOTING_PRECINCT       27933 non-null  object \n",
      " 18  LATITUDE              27933 non-null  float64\n",
      " 19  LONGITUDE             27933 non-null  float64\n",
      " 20  BID                   4657 non-null   object \n",
      " 21  START_DATE            27932 non-null  object \n",
      " 22  END_DATE              24851 non-null  object \n",
      " 23  OBJECTID              27933 non-null  int64  \n",
      " 24  OCTO_RECORD_ID        0 non-null      float64\n",
      "dtypes: float64(10), int64(3), object(12)\n",
      "memory usage: 5.3+ MB\n"
     ]
    }
   ],
   "source": [
    "## load data on 2020 crimes in DC\n",
    "df = dc_crim_2020 = pd.read_csv(\"https://opendata.arcgis.com/datasets/f516e0dd7b614b088ad781b0c4002331_2.csv\")\n",
    "dc_crim_2020.head()\n",
    "dc_crim_2020.shape\n",
    "dc_crim_2020.info()"
   ]
  },
  {
   "cell_type": "code",
   "execution_count": 3,
   "metadata": {},
   "outputs": [
    {
     "name": "stdout",
     "output_type": "stream",
     "text": [
      "6\n",
      "OFFENSE\n",
      "THEFT/OTHER                   10928\n",
      "THEFT F/AUTO                   8284\n",
      "MOTOR VEHICLE THEFT            3261\n",
      "ROBBERY                        1999\n",
      "ASSAULT W/DANGEROUS WEAPON     1633\n",
      "BURGLARY                       1445\n",
      "HOMICIDE                        199\n",
      "SEX ABUSE                       179\n",
      "ARSON                            14\n",
      "Name: count, dtype: int64\n",
      "OFFENSE\n",
      "THEFT/OTHER                   10927\n",
      "THEFT F/AUTO                   8283\n",
      "MOTOR VEHICLE THEFT            3260\n",
      "ROBBERY                        1998\n",
      "ASSAULT W/DANGEROUS WEAPON     1632\n",
      "BURGLARY                       1444\n",
      "HOMICIDE                        198\n",
      "SEX ABUSE                       178\n",
      "ARSON                            13\n",
      "Name: count, dtype: int64\n"
     ]
    }
   ],
   "source": [
    "df\n",
    "\n",
    "df.OFFENSE.value_counts()\n",
    "\n",
    "pd.DataFrame() ## shift-tab\n",
    "\n",
    "plus1=lambda x: x+1\n",
    "\n",
    "result = plus1(5)\n",
    "print(result)\n",
    "\n",
    "print(plus1(df.OFFENSE.value_counts()))\n",
    "print(df.OFFENSE.value_counts())\n",
    "\n",
    "\n",
    "\n",
    "\n"
   ]
  },
  {
   "cell_type": "markdown",
   "metadata": {},
   "source": [
    "#### Warm-up: Ways to add one to column X\n",
    "And how to time your code"
   ]
  },
  {
   "cell_type": "code",
   "execution_count": 85,
   "metadata": {},
   "outputs": [
    {
     "name": "stdout",
     "output_type": "stream",
     "text": [
      "OFFENSE\n",
      "THEFT/OTHER                   10928\n",
      "THEFT F/AUTO                   8284\n",
      "MOTOR VEHICLE THEFT            3261\n",
      "ROBBERY                        1999\n",
      "ASSAULT W/DANGEROUS WEAPON     1633\n",
      "BURGLARY                       1445\n",
      "HOMICIDE                        199\n",
      "SEX ABUSE                       179\n",
      "ARSON                            14\n",
      "Name: count, dtype: int64\n"
     ]
    }
   ],
   "source": [
    "print(plus1(df.OFFENSE.value_counts()))"
   ]
  },
  {
   "cell_type": "markdown",
   "metadata": {},
   "source": [
    "## 1. Aggregation"
   ]
  },
  {
   "cell_type": "markdown",
   "metadata": {},
   "source": [
    "### Example of grouping by one variable and doing one aggregation \n",
    "\n",
    "**Task**: find and print the number of unique offense types (`OFFENSE`) by ward (`WARD`)"
   ]
  },
  {
   "cell_type": "code",
   "execution_count": 86,
   "metadata": {},
   "outputs": [],
   "source": [
    "uni_offense_gb_ward = df.groupby(\"WARD\").agg(\n",
    "    {\"OFFENSE\":\"unique\"}\n",
    ").reset_index()\n"
   ]
  },
  {
   "cell_type": "code",
   "execution_count": 87,
   "metadata": {},
   "outputs": [
    {
     "data": {
      "text/html": [
       "<div>\n",
       "<style scoped>\n",
       "    .dataframe tbody tr th:only-of-type {\n",
       "        vertical-align: middle;\n",
       "    }\n",
       "\n",
       "    .dataframe tbody tr th {\n",
       "        vertical-align: top;\n",
       "    }\n",
       "\n",
       "    .dataframe thead th {\n",
       "        text-align: right;\n",
       "    }\n",
       "</style>\n",
       "<table border=\"1\" class=\"dataframe\">\n",
       "  <thead>\n",
       "    <tr style=\"text-align: right;\">\n",
       "      <th></th>\n",
       "      <th>WARD</th>\n",
       "      <th>OFFENSE</th>\n",
       "    </tr>\n",
       "  </thead>\n",
       "  <tbody>\n",
       "    <tr>\n",
       "      <th>0</th>\n",
       "      <td>1</td>\n",
       "      <td>[ROBBERY, THEFT/OTHER, THEFT F/AUTO, MOTOR VEH...</td>\n",
       "    </tr>\n",
       "    <tr>\n",
       "      <th>1</th>\n",
       "      <td>2</td>\n",
       "      <td>[THEFT/OTHER, THEFT F/AUTO, MOTOR VEHICLE THEF...</td>\n",
       "    </tr>\n",
       "    <tr>\n",
       "      <th>2</th>\n",
       "      <td>3</td>\n",
       "      <td>[ASSAULT W/DANGEROUS WEAPON, THEFT/OTHER, THEF...</td>\n",
       "    </tr>\n",
       "    <tr>\n",
       "      <th>3</th>\n",
       "      <td>4</td>\n",
       "      <td>[THEFT F/AUTO, THEFT/OTHER, ROBBERY, MOTOR VEH...</td>\n",
       "    </tr>\n",
       "    <tr>\n",
       "      <th>4</th>\n",
       "      <td>5</td>\n",
       "      <td>[THEFT F/AUTO, MOTOR VEHICLE THEFT, ROBBERY, T...</td>\n",
       "    </tr>\n",
       "    <tr>\n",
       "      <th>5</th>\n",
       "      <td>6</td>\n",
       "      <td>[THEFT/OTHER, ASSAULT W/DANGEROUS WEAPON, BURG...</td>\n",
       "    </tr>\n",
       "    <tr>\n",
       "      <th>6</th>\n",
       "      <td>7</td>\n",
       "      <td>[THEFT/OTHER, BURGLARY, MOTOR VEHICLE THEFT, T...</td>\n",
       "    </tr>\n",
       "    <tr>\n",
       "      <th>7</th>\n",
       "      <td>8</td>\n",
       "      <td>[THEFT/OTHER, ASSAULT W/DANGEROUS WEAPON, HOMI...</td>\n",
       "    </tr>\n",
       "  </tbody>\n",
       "</table>\n",
       "</div>"
      ],
      "text/plain": [
       "   WARD                                            OFFENSE\n",
       "0     1  [ROBBERY, THEFT/OTHER, THEFT F/AUTO, MOTOR VEH...\n",
       "1     2  [THEFT/OTHER, THEFT F/AUTO, MOTOR VEHICLE THEF...\n",
       "2     3  [ASSAULT W/DANGEROUS WEAPON, THEFT/OTHER, THEF...\n",
       "3     4  [THEFT F/AUTO, THEFT/OTHER, ROBBERY, MOTOR VEH...\n",
       "4     5  [THEFT F/AUTO, MOTOR VEHICLE THEFT, ROBBERY, T...\n",
       "5     6  [THEFT/OTHER, ASSAULT W/DANGEROUS WEAPON, BURG...\n",
       "6     7  [THEFT/OTHER, BURGLARY, MOTOR VEHICLE THEFT, T...\n",
       "7     8  [THEFT/OTHER, ASSAULT W/DANGEROUS WEAPON, HOMI..."
      ]
     },
     "execution_count": 87,
     "metadata": {},
     "output_type": "execute_result"
    }
   ],
   "source": [
    "uni_offense_gb_ward"
   ]
  },
  {
   "cell_type": "markdown",
   "metadata": {},
   "source": [
    "### Example of grouping by one variable and providing two summaries of the same variable\n",
    "\n",
    "**Task**: previous showed number of offenses by ward but want to find out content of offenses in each ward; create an aggregation that summarizes both the number of unique offenses by ward and what those offenses are -- for instance, by pasting the unique offenses in that ward separated by the \";\" (e.g., Theft; Burglary;...)\n",
    "\n",
    "*Hint*: you can use the join command to paste together a list separated by some delimiter. \n",
    "    - The syntax, if we are using the comma delimiter, is: \", \".join(nameoflist)"
   ]
  },
  {
   "cell_type": "code",
   "execution_count": 88,
   "metadata": {},
   "outputs": [
    {
     "data": {
      "text/html": [
       "<div>\n",
       "<style scoped>\n",
       "    .dataframe tbody tr th:only-of-type {\n",
       "        vertical-align: middle;\n",
       "    }\n",
       "\n",
       "    .dataframe tbody tr th {\n",
       "        vertical-align: top;\n",
       "    }\n",
       "\n",
       "    .dataframe thead tr th {\n",
       "        text-align: left;\n",
       "    }\n",
       "</style>\n",
       "<table border=\"1\" class=\"dataframe\">\n",
       "  <thead>\n",
       "    <tr>\n",
       "      <th></th>\n",
       "      <th>WARD</th>\n",
       "      <th colspan=\"2\" halign=\"left\">OFFENSE</th>\n",
       "    </tr>\n",
       "    <tr>\n",
       "      <th></th>\n",
       "      <th></th>\n",
       "      <th>unique</th>\n",
       "      <th>unique</th>\n",
       "    </tr>\n",
       "  </thead>\n",
       "  <tbody>\n",
       "    <tr>\n",
       "      <th>0</th>\n",
       "      <td>1</td>\n",
       "      <td>[ROBBERY, THEFT/OTHER, THEFT F/AUTO, MOTOR VEH...</td>\n",
       "      <td>[ROBBERY, THEFT/OTHER, THEFT F/AUTO, MOTOR VEH...</td>\n",
       "    </tr>\n",
       "    <tr>\n",
       "      <th>1</th>\n",
       "      <td>2</td>\n",
       "      <td>[THEFT/OTHER, THEFT F/AUTO, MOTOR VEHICLE THEF...</td>\n",
       "      <td>[THEFT/OTHER, THEFT F/AUTO, MOTOR VEHICLE THEF...</td>\n",
       "    </tr>\n",
       "    <tr>\n",
       "      <th>2</th>\n",
       "      <td>3</td>\n",
       "      <td>[ASSAULT W/DANGEROUS WEAPON, THEFT/OTHER, THEF...</td>\n",
       "      <td>[ASSAULT W/DANGEROUS WEAPON, THEFT/OTHER, THEF...</td>\n",
       "    </tr>\n",
       "    <tr>\n",
       "      <th>3</th>\n",
       "      <td>4</td>\n",
       "      <td>[THEFT F/AUTO, THEFT/OTHER, ROBBERY, MOTOR VEH...</td>\n",
       "      <td>[THEFT F/AUTO, THEFT/OTHER, ROBBERY, MOTOR VEH...</td>\n",
       "    </tr>\n",
       "    <tr>\n",
       "      <th>4</th>\n",
       "      <td>5</td>\n",
       "      <td>[THEFT F/AUTO, MOTOR VEHICLE THEFT, ROBBERY, T...</td>\n",
       "      <td>[THEFT F/AUTO, MOTOR VEHICLE THEFT, ROBBERY, T...</td>\n",
       "    </tr>\n",
       "    <tr>\n",
       "      <th>5</th>\n",
       "      <td>6</td>\n",
       "      <td>[THEFT/OTHER, ASSAULT W/DANGEROUS WEAPON, BURG...</td>\n",
       "      <td>[THEFT/OTHER, ASSAULT W/DANGEROUS WEAPON, BURG...</td>\n",
       "    </tr>\n",
       "    <tr>\n",
       "      <th>6</th>\n",
       "      <td>7</td>\n",
       "      <td>[THEFT/OTHER, BURGLARY, MOTOR VEHICLE THEFT, T...</td>\n",
       "      <td>[THEFT/OTHER, BURGLARY, MOTOR VEHICLE THEFT, T...</td>\n",
       "    </tr>\n",
       "    <tr>\n",
       "      <th>7</th>\n",
       "      <td>8</td>\n",
       "      <td>[THEFT/OTHER, ASSAULT W/DANGEROUS WEAPON, HOMI...</td>\n",
       "      <td>[THEFT/OTHER, ASSAULT W/DANGEROUS WEAPON, HOMI...</td>\n",
       "    </tr>\n",
       "  </tbody>\n",
       "</table>\n",
       "</div>"
      ],
      "text/plain": [
       "  WARD                                            OFFENSE  \\\n",
       "                                                   unique   \n",
       "0    1  [ROBBERY, THEFT/OTHER, THEFT F/AUTO, MOTOR VEH...   \n",
       "1    2  [THEFT/OTHER, THEFT F/AUTO, MOTOR VEHICLE THEF...   \n",
       "2    3  [ASSAULT W/DANGEROUS WEAPON, THEFT/OTHER, THEF...   \n",
       "3    4  [THEFT F/AUTO, THEFT/OTHER, ROBBERY, MOTOR VEH...   \n",
       "4    5  [THEFT F/AUTO, MOTOR VEHICLE THEFT, ROBBERY, T...   \n",
       "5    6  [THEFT/OTHER, ASSAULT W/DANGEROUS WEAPON, BURG...   \n",
       "6    7  [THEFT/OTHER, BURGLARY, MOTOR VEHICLE THEFT, T...   \n",
       "7    8  [THEFT/OTHER, ASSAULT W/DANGEROUS WEAPON, HOMI...   \n",
       "\n",
       "                                                      \n",
       "                                              unique  \n",
       "0  [ROBBERY, THEFT/OTHER, THEFT F/AUTO, MOTOR VEH...  \n",
       "1  [THEFT/OTHER, THEFT F/AUTO, MOTOR VEHICLE THEF...  \n",
       "2  [ASSAULT W/DANGEROUS WEAPON, THEFT/OTHER, THEF...  \n",
       "3  [THEFT F/AUTO, THEFT/OTHER, ROBBERY, MOTOR VEH...  \n",
       "4  [THEFT F/AUTO, MOTOR VEHICLE THEFT, ROBBERY, T...  \n",
       "5  [THEFT/OTHER, ASSAULT W/DANGEROUS WEAPON, BURG...  \n",
       "6  [THEFT/OTHER, BURGLARY, MOTOR VEHICLE THEFT, T...  \n",
       "7  [THEFT/OTHER, ASSAULT W/DANGEROUS WEAPON, HOMI...  "
      ]
     },
     "execution_count": 88,
     "metadata": {},
     "output_type": "execute_result"
    }
   ],
   "source": [
    "uni_offense_content_gb_ward = df.groupby(\"WARD\").agg(\n",
    "    {\"OFFENSE\":[\"unique\", \"unique\"]}\n",
    ").reset_index()\n",
    "\n",
    "uni_offense_content_gb_ward"
   ]
  },
  {
   "cell_type": "markdown",
   "metadata": {},
   "source": [
    "### Example of grouping by two variables \n",
    "\n",
    "**Task**: group by ward (`WARD`) and police shift (`SHIFT`) and find the offense that is most common in that ward and shift"
   ]
  },
  {
   "cell_type": "code",
   "execution_count": 89,
   "metadata": {},
   "outputs": [
    {
     "data": {
      "text/plain": [
       "WARD  SHIFT   \n",
       "1     DAY                        THEFT/OTHER\n",
       "      EVENING                    THEFT/OTHER\n",
       "      MIDNIGHT                   THEFT/OTHER\n",
       "2     DAY                        THEFT/OTHER\n",
       "      EVENING                    THEFT/OTHER\n",
       "      MIDNIGHT                   THEFT/OTHER\n",
       "3     DAY                        THEFT/OTHER\n",
       "      EVENING                    THEFT/OTHER\n",
       "      MIDNIGHT                   THEFT/OTHER\n",
       "4     DAY                       THEFT F/AUTO\n",
       "      EVENING                    THEFT/OTHER\n",
       "      MIDNIGHT                   THEFT/OTHER\n",
       "5     DAY                       THEFT F/AUTO\n",
       "      EVENING                    THEFT/OTHER\n",
       "      MIDNIGHT                   THEFT/OTHER\n",
       "6     DAY                        THEFT/OTHER\n",
       "      EVENING                    THEFT/OTHER\n",
       "      MIDNIGHT                   THEFT/OTHER\n",
       "7     DAY                       THEFT F/AUTO\n",
       "      EVENING                    THEFT/OTHER\n",
       "      MIDNIGHT                   THEFT/OTHER\n",
       "8     DAY                       THEFT F/AUTO\n",
       "      EVENING                    THEFT/OTHER\n",
       "      MIDNIGHT    ASSAULT W/DANGEROUS WEAPON\n",
       "Name: OFFENSE, dtype: object"
      ]
     },
     "execution_count": 89,
     "metadata": {},
     "output_type": "execute_result"
    }
   ],
   "source": [
    "uni_offense_content_gb_ward = df.groupby([\"WARD\", \"SHIFT\"])[\"OFFENSE\"].agg(lambda x: x.mode())\n",
    "\n",
    "uni_offense_content_gb_ward"
   ]
  },
  {
   "cell_type": "markdown",
   "metadata": {},
   "source": [
    "## Summarizing over all rows or all columns (without grouping)\n",
    "\n",
    "We can also use the `apply` function to summarize rows or columns efficiently"
   ]
  },
  {
   "cell_type": "markdown",
   "metadata": {},
   "source": [
    "**Task**: find the mean lat and longitude in one line of code"
   ]
  },
  {
   "cell_type": "code",
   "execution_count": 90,
   "metadata": {},
   "outputs": [
    {
     "data": {
      "text/plain": [
       "LATITUDE     38.907613\n",
       "LONGITUDE   -77.007049\n",
       "dtype: float64"
      ]
     },
     "execution_count": 90,
     "metadata": {},
     "output_type": "execute_result"
    }
   ],
   "source": [
    "df[[\"LATITUDE\", \"LONGITUDE\"]].apply(np.mean)"
   ]
  },
  {
   "cell_type": "markdown",
   "metadata": {},
   "source": [
    "## 2. Creating new columns/transforming their type "
   ]
  },
  {
   "cell_type": "markdown",
   "metadata": {},
   "source": [
    "### Simple filtering\n",
    "\n",
    "`np.where` is in the numpy package (aliased as `np`) and operates similar to `ifelse` in R\n",
    "\n",
    "But there is a built in pandas way to emulate this.\n",
    "\n",
    "**Task**: create an indicator `is_theft` for any offense that contains the word \"THEFT\"\n",
    "    \n",
    "**Task**: create an indicator `is_theft_notmotor` for any offense that contains the word \"THEFT\" but does not contain the word \"MOTOR\""
   ]
  },
  {
   "cell_type": "code",
   "execution_count": 91,
   "metadata": {},
   "outputs": [],
   "source": [
    "is_theft = df.OFFENSE.str.contains(\"THEFT\", case=False)\n",
    "\n",
    "is_theft\n",
    "\n",
    "\n"
   ]
  },
  {
   "cell_type": "code",
   "execution_count": 92,
   "metadata": {},
   "outputs": [
    {
     "data": {
      "text/plain": [
       "0         True\n",
       "1         True\n",
       "2         True\n",
       "3         True\n",
       "4        False\n",
       "         ...  \n",
       "27928    False\n",
       "27929     True\n",
       "27930    False\n",
       "27931    False\n",
       "27932     True\n",
       "Name: OFFENSE, Length: 27933, dtype: bool"
      ]
     },
     "execution_count": 92,
     "metadata": {},
     "output_type": "execute_result"
    }
   ],
   "source": [
    "is_theft_motor = (df.OFFENSE.str.contains(\"THEFT\", case=False) & ~ df.OFFENSE.str.contains(\"MOTOR\", case=False))\n",
    "\n",
    "is_theft_motor"
   ]
  },
  {
   "cell_type": "markdown",
   "metadata": {},
   "source": [
    "### np.select\n",
    "\n",
    "**Task**: create a new variable, `offense_summary`, where you:\n",
    "        \n",
    "- Recode theft offenses that use a gun or knife as the method (`METHOD`) as: violent theft\n",
    "- Recode non-theft offenses that use a gun or knife as the method as: violent other\n",
    "- Recode all other as non-violent "
   ]
  },
  {
   "cell_type": "code",
   "execution_count": 96,
   "metadata": {},
   "outputs": [
    {
     "name": "stdout",
     "output_type": "stream",
     "text": [
      "               X          Y       CCN              REPORT_DAT    SHIFT  \\\n",
      "0     -76.993094  38.928471  20153901  2020/10/27 20:37:21+00  EVENING   \n",
      "1     -77.027049  38.904911  20095149  2020/06/30 20:46:51+00  EVENING   \n",
      "2     -76.947655  38.896660  20064305  2020/04/27 23:44:04+00  EVENING   \n",
      "3     -77.032861  38.956717  20100388  2020/07/12 18:37:14+00      DAY   \n",
      "4     -76.979766  38.915804  20128992  2020/09/09 18:00:44+00      DAY   \n",
      "...          ...        ...       ...                     ...      ...   \n",
      "27928 -77.040861  38.905205  20109618  2020/08/01 15:12:23+00      DAY   \n",
      "27929 -77.020915  38.902526  20152852  2020/10/25 18:25:58+00      DAY   \n",
      "27930 -76.965994  38.876867  20020481  2020/02/03 16:50:47+00      DAY   \n",
      "27931 -77.024174  38.925028  20075827  2020/05/22 18:42:22+00      DAY   \n",
      "27932 -77.029716  38.940278  20075557  2020/05/22 02:24:34+00  EVENING   \n",
      "\n",
      "       METHOD                     OFFENSE  \\\n",
      "0      OTHERS                THEFT F/AUTO   \n",
      "1      OTHERS                 THEFT/OTHER   \n",
      "2      OTHERS                 THEFT/OTHER   \n",
      "3      OTHERS                THEFT F/AUTO   \n",
      "4      OTHERS         MOTOR VEHICLE THEFT   \n",
      "...       ...                         ...   \n",
      "27928  OTHERS                    BURGLARY   \n",
      "27929  OTHERS                 THEFT/OTHER   \n",
      "27930  OTHERS                    BURGLARY   \n",
      "27931     GUN  ASSAULT W/DANGEROUS WEAPON   \n",
      "27932  OTHERS                 THEFT/OTHER   \n",
      "\n",
      "                                              BLOCK    XBLOCK    YBLOCK  ...  \\\n",
      "0               900 - 999 BLOCK OF IRVING STREET NE  400599.0  140065.0  ...   \n",
      "1               1101 - 1199 BLOCK OF 11TH STREET NW  397654.0  137450.0  ...   \n",
      "2          4000 - 4121 BLOCK OF MINNESOTA AVENUE NE  404541.0  136535.0  ...   \n",
      "3          5500  - 5599 BLOCK OF COLORADO AVENUE NW  397152.0  143201.0  ...   \n",
      "4      2100 - 2131 BLOCK OF WEST VIRGINIA AVENUE NE  401755.0  138659.0  ...   \n",
      "...                                             ...       ...       ...  ...   \n",
      "27928    1130 - 1199 BLOCK OF CONNECTICUT AVENUE NW  396456.0  137483.0  ...   \n",
      "27929                600 - 699 BLOCK OF K STREET NW  398186.0  137185.0  ...   \n",
      "27930              2900 - 2999 BLOCK OF M STREET SE  402951.0  134337.0  ...   \n",
      "27931         700 - 799 BLOCK OF FAIRMONT STREET NW  397904.0  139683.0  ...   \n",
      "27932          4000  - 4099 BLOCK OF 13TH STREET NW  397424.0  141376.0  ...   \n",
      "\n",
      "       CENSUS_TRACT VOTING_PRECINCT   LATITUDE  LONGITUDE  \\\n",
      "0            9301.0     Precinct 73  38.928463 -76.993092   \n",
      "1            4902.0    Precinct 129  38.904904 -77.027047   \n",
      "2            7803.0     Precinct 99  38.896652 -76.947653   \n",
      "3            2001.0     Precinct 53  38.956709 -77.032858   \n",
      "4            8804.0     Precinct 76  38.915796 -76.979764   \n",
      "...             ...             ...        ...        ...   \n",
      "27928       10700.0     Precinct 17  38.905197 -77.040859   \n",
      "27929        4703.0     Precinct 18  38.902518 -77.020913   \n",
      "27930        7709.0    Precinct 111  38.876859 -76.965991   \n",
      "27931        3500.0     Precinct 37  38.925020 -77.024172   \n",
      "27932        2504.0     Precinct 47  38.940270 -77.029713   \n",
      "\n",
      "                             BID              START_DATE  \\\n",
      "0                            NaN  2020/10/27 20:26:31+00   \n",
      "1                            NaN  2020/06/29 23:30:04+00   \n",
      "2                            NaN  2020/04/27 22:49:30+00   \n",
      "3                            NaN  2020/07/12 17:36:13+00   \n",
      "4                            NaN  2020/09/09 01:30:07+00   \n",
      "...                          ...                     ...   \n",
      "27928            GOLDEN TRIANGLE  2020/07/31 19:00:19+00   \n",
      "27929  MOUNT VERNON TRIANGLE CID  2020/10/25 17:00:17+00   \n",
      "27930                        NaN  2020/02/03 16:10:39+00   \n",
      "27931                        NaN  2020/05/22 17:27:34+00   \n",
      "27932                        NaN  2020/05/17 16:00:51+00   \n",
      "\n",
      "                     END_DATE   OBJECTID  OCTO_RECORD_ID  offense_summary  \n",
      "0      2020/10/27 20:37:29+00  398217667             NaN      non-violent  \n",
      "1      2020/06/30 11:00:09+00  398217668             NaN      non-violent  \n",
      "2                         NaN  398217670             NaN      non-violent  \n",
      "3      2020/07/12 18:10:45+00  398217673             NaN      non-violent  \n",
      "4      2020/09/10 23:00:57+00  398217674             NaN      non-violent  \n",
      "...                       ...        ...             ...              ...  \n",
      "27928  2020/08/01 15:13:33+00  398740090             NaN      non-violent  \n",
      "27929  2020/10/25 17:10:27+00  398740091             NaN      non-violent  \n",
      "27930  2020/02/03 16:50:48+00  398740098             NaN      non-violent  \n",
      "27931  2020/05/22 18:42:31+00  398740104             NaN    violent other  \n",
      "27932  2020/05/20 21:00:59+00  398740106             NaN      non-violent  \n",
      "\n",
      "[27933 rows x 26 columns]\n"
     ]
    }
   ],
   "source": [
    "conditions = [\n",
    "    (df['OFFENSE'].str.contains('THEFT')) & ((df['METHOD'] == 'GUN') | (df['METHOD'] == 'KNIFE')),\n",
    "    (~df['OFFENSE'].str.contains('THEFT')) & ((df['METHOD'] == 'GUN') | (df['METHOD'] == 'KNIFE')),\n",
    "    True\n",
    "]\n",
    "\n",
    "values = ['violent theft', 'violent other', 'non-violent'] # condition 1, condition 2, neither\n",
    "\n",
    "# Use np.select to create the 'offense_summary' column\n",
    "df['offense_summary'] = np.select(conditions, values)\n",
    "\n",
    "# Print the DataFrame\n",
    "print(df)"
   ]
  },
  {
   "cell_type": "markdown",
   "metadata": {},
   "source": [
    "### map.recode\n",
    "\n",
    "**Task**: recode shifts that are MIDNIGHT or EVENING as \"nighttime\"; code other shift to daytime"
   ]
  },
  {
   "cell_type": "code",
   "execution_count": 42,
   "metadata": {},
   "outputs": [
    {
     "name": "stdout",
     "output_type": "stream",
     "text": [
      "               X          Y       CCN              REPORT_DAT      SHIFT  \\\n",
      "0     -76.993094  38.928471  20153901  2020/10/27 20:37:21+00  nighttime   \n",
      "1     -77.027049  38.904911  20095149  2020/06/30 20:46:51+00  nighttime   \n",
      "2     -76.947655  38.896660  20064305  2020/04/27 23:44:04+00  nighttime   \n",
      "3     -77.032861  38.956717  20100388  2020/07/12 18:37:14+00    daytime   \n",
      "4     -76.979766  38.915804  20128992  2020/09/09 18:00:44+00    daytime   \n",
      "...          ...        ...       ...                     ...        ...   \n",
      "27928 -77.040861  38.905205  20109618  2020/08/01 15:12:23+00    daytime   \n",
      "27929 -77.020915  38.902526  20152852  2020/10/25 18:25:58+00    daytime   \n",
      "27930 -76.965994  38.876867  20020481  2020/02/03 16:50:47+00    daytime   \n",
      "27931 -77.024174  38.925028  20075827  2020/05/22 18:42:22+00    daytime   \n",
      "27932 -77.029716  38.940278  20075557  2020/05/22 02:24:34+00  nighttime   \n",
      "\n",
      "       METHOD                     OFFENSE  \\\n",
      "0      OTHERS                THEFT F/AUTO   \n",
      "1      OTHERS                 THEFT/OTHER   \n",
      "2      OTHERS                 THEFT/OTHER   \n",
      "3      OTHERS                THEFT F/AUTO   \n",
      "4      OTHERS         MOTOR VEHICLE THEFT   \n",
      "...       ...                         ...   \n",
      "27928  OTHERS                    BURGLARY   \n",
      "27929  OTHERS                 THEFT/OTHER   \n",
      "27930  OTHERS                    BURGLARY   \n",
      "27931     GUN  ASSAULT W/DANGEROUS WEAPON   \n",
      "27932  OTHERS                 THEFT/OTHER   \n",
      "\n",
      "                                              BLOCK    XBLOCK    YBLOCK  ...  \\\n",
      "0               900 - 999 BLOCK OF IRVING STREET NE  400599.0  140065.0  ...   \n",
      "1               1101 - 1199 BLOCK OF 11TH STREET NW  397654.0  137450.0  ...   \n",
      "2          4000 - 4121 BLOCK OF MINNESOTA AVENUE NE  404541.0  136535.0  ...   \n",
      "3          5500  - 5599 BLOCK OF COLORADO AVENUE NW  397152.0  143201.0  ...   \n",
      "4      2100 - 2131 BLOCK OF WEST VIRGINIA AVENUE NE  401755.0  138659.0  ...   \n",
      "...                                             ...       ...       ...  ...   \n",
      "27928    1130 - 1199 BLOCK OF CONNECTICUT AVENUE NW  396456.0  137483.0  ...   \n",
      "27929                600 - 699 BLOCK OF K STREET NW  398186.0  137185.0  ...   \n",
      "27930              2900 - 2999 BLOCK OF M STREET SE  402951.0  134337.0  ...   \n",
      "27931         700 - 799 BLOCK OF FAIRMONT STREET NW  397904.0  139683.0  ...   \n",
      "27932          4000  - 4099 BLOCK OF 13TH STREET NW  397424.0  141376.0  ...   \n",
      "\n",
      "       CENSUS_TRACT VOTING_PRECINCT   LATITUDE  LONGITUDE  \\\n",
      "0            9301.0     Precinct 73  38.928463 -76.993092   \n",
      "1            4902.0    Precinct 129  38.904904 -77.027047   \n",
      "2            7803.0     Precinct 99  38.896652 -76.947653   \n",
      "3            2001.0     Precinct 53  38.956709 -77.032858   \n",
      "4            8804.0     Precinct 76  38.915796 -76.979764   \n",
      "...             ...             ...        ...        ...   \n",
      "27928       10700.0     Precinct 17  38.905197 -77.040859   \n",
      "27929        4703.0     Precinct 18  38.902518 -77.020913   \n",
      "27930        7709.0    Precinct 111  38.876859 -76.965991   \n",
      "27931        3500.0     Precinct 37  38.925020 -77.024172   \n",
      "27932        2504.0     Precinct 47  38.940270 -77.029713   \n",
      "\n",
      "                             BID              START_DATE  \\\n",
      "0                            NaN  2020/10/27 20:26:31+00   \n",
      "1                            NaN  2020/06/29 23:30:04+00   \n",
      "2                            NaN  2020/04/27 22:49:30+00   \n",
      "3                            NaN  2020/07/12 17:36:13+00   \n",
      "4                            NaN  2020/09/09 01:30:07+00   \n",
      "...                          ...                     ...   \n",
      "27928            GOLDEN TRIANGLE  2020/07/31 19:00:19+00   \n",
      "27929  MOUNT VERNON TRIANGLE CID  2020/10/25 17:00:17+00   \n",
      "27930                        NaN  2020/02/03 16:10:39+00   \n",
      "27931                        NaN  2020/05/22 17:27:34+00   \n",
      "27932                        NaN  2020/05/17 16:00:51+00   \n",
      "\n",
      "                     END_DATE   OBJECTID  OCTO_RECORD_ID  offense_summary  \n",
      "0      2020/10/27 20:37:29+00  398217667             NaN      non-violent  \n",
      "1      2020/06/30 11:00:09+00  398217668             NaN      non-violent  \n",
      "2                         NaN  398217670             NaN      non-violent  \n",
      "3      2020/07/12 18:10:45+00  398217673             NaN      non-violent  \n",
      "4      2020/09/10 23:00:57+00  398217674             NaN      non-violent  \n",
      "...                       ...        ...             ...              ...  \n",
      "27928  2020/08/01 15:13:33+00  398740090             NaN      non-violent  \n",
      "27929  2020/10/25 17:10:27+00  398740091             NaN      non-violent  \n",
      "27930  2020/02/03 16:50:48+00  398740098             NaN      non-violent  \n",
      "27931  2020/05/22 18:42:31+00  398740104             NaN    violent other  \n",
      "27932  2020/05/20 21:00:59+00  398740106             NaN      non-violent  \n",
      "\n",
      "[27933 rows x 26 columns]\n"
     ]
    }
   ],
   "source": [
    "# Define conditions and values\n",
    "conditions = [\n",
    "    df['SHIFT'].str.contains('MIDNIGHT|EVENING'),\n",
    "    True\n",
    "]\n",
    "\n",
    "values = ['nighttime', 'daytime']  # Assign 'nighttime' if condition 1 is True, 'daytime' otherwise\n",
    "\n",
    "# Use np.select to create the 'SHIFT' column\n",
    "df['SHIFT'] = np.select(conditions, values)\n",
    "\n",
    "# Print the DataFrame\n",
    "print(df)"
   ]
  },
  {
   "cell_type": "markdown",
   "metadata": {},
   "source": [
    "### Using built-in pandas methods\n",
    "\n",
    "Another way of creating variables, used either alone or in combination with np.where and np.select is to use pandas built in `str` methods\n",
    "\n",
    "Basic structure is: `df['namestringcol'].str.someoperation`"
   ]
  },
  {
   "cell_type": "markdown",
   "metadata": {},
   "source": [
    "**Task**: using a `str` method, create a new variable--`OFFENSE_NOSP`--that replaces spaces in the `OFFENSE` column with underscores"
   ]
  },
  {
   "cell_type": "code",
   "execution_count": 47,
   "metadata": {},
   "outputs": [
    {
     "name": "stdout",
     "output_type": "stream",
     "text": [
      "               X          Y       CCN              REPORT_DAT      SHIFT  \\\n",
      "0     -76.993094  38.928471  20153901  2020/10/27 20:37:21+00  nighttime   \n",
      "1     -77.027049  38.904911  20095149  2020/06/30 20:46:51+00  nighttime   \n",
      "2     -76.947655  38.896660  20064305  2020/04/27 23:44:04+00  nighttime   \n",
      "3     -77.032861  38.956717  20100388  2020/07/12 18:37:14+00    daytime   \n",
      "4     -76.979766  38.915804  20128992  2020/09/09 18:00:44+00    daytime   \n",
      "...          ...        ...       ...                     ...        ...   \n",
      "27928 -77.040861  38.905205  20109618  2020/08/01 15:12:23+00    daytime   \n",
      "27929 -77.020915  38.902526  20152852  2020/10/25 18:25:58+00    daytime   \n",
      "27930 -76.965994  38.876867  20020481  2020/02/03 16:50:47+00    daytime   \n",
      "27931 -77.024174  38.925028  20075827  2020/05/22 18:42:22+00    daytime   \n",
      "27932 -77.029716  38.940278  20075557  2020/05/22 02:24:34+00  nighttime   \n",
      "\n",
      "       METHOD                     OFFENSE  \\\n",
      "0      OTHERS                THEFT F/AUTO   \n",
      "1      OTHERS                 THEFT/OTHER   \n",
      "2      OTHERS                 THEFT/OTHER   \n",
      "3      OTHERS                THEFT F/AUTO   \n",
      "4      OTHERS         MOTOR VEHICLE THEFT   \n",
      "...       ...                         ...   \n",
      "27928  OTHERS                    BURGLARY   \n",
      "27929  OTHERS                 THEFT/OTHER   \n",
      "27930  OTHERS                    BURGLARY   \n",
      "27931     GUN  ASSAULT W/DANGEROUS WEAPON   \n",
      "27932  OTHERS                 THEFT/OTHER   \n",
      "\n",
      "                                              BLOCK    XBLOCK    YBLOCK  ...  \\\n",
      "0               900 - 999 BLOCK OF IRVING STREET NE  400599.0  140065.0  ...   \n",
      "1               1101 - 1199 BLOCK OF 11TH STREET NW  397654.0  137450.0  ...   \n",
      "2          4000 - 4121 BLOCK OF MINNESOTA AVENUE NE  404541.0  136535.0  ...   \n",
      "3          5500  - 5599 BLOCK OF COLORADO AVENUE NW  397152.0  143201.0  ...   \n",
      "4      2100 - 2131 BLOCK OF WEST VIRGINIA AVENUE NE  401755.0  138659.0  ...   \n",
      "...                                             ...       ...       ...  ...   \n",
      "27928    1130 - 1199 BLOCK OF CONNECTICUT AVENUE NW  396456.0  137483.0  ...   \n",
      "27929                600 - 699 BLOCK OF K STREET NW  398186.0  137185.0  ...   \n",
      "27930              2900 - 2999 BLOCK OF M STREET SE  402951.0  134337.0  ...   \n",
      "27931         700 - 799 BLOCK OF FAIRMONT STREET NW  397904.0  139683.0  ...   \n",
      "27932          4000  - 4099 BLOCK OF 13TH STREET NW  397424.0  141376.0  ...   \n",
      "\n",
      "       VOTING_PRECINCT   LATITUDE  LONGITUDE                        BID  \\\n",
      "0          Precinct 73  38.928463 -76.993092                        NaN   \n",
      "1         Precinct 129  38.904904 -77.027047                        NaN   \n",
      "2          Precinct 99  38.896652 -76.947653                        NaN   \n",
      "3          Precinct 53  38.956709 -77.032858                        NaN   \n",
      "4          Precinct 76  38.915796 -76.979764                        NaN   \n",
      "...                ...        ...        ...                        ...   \n",
      "27928      Precinct 17  38.905197 -77.040859            GOLDEN TRIANGLE   \n",
      "27929      Precinct 18  38.902518 -77.020913  MOUNT VERNON TRIANGLE CID   \n",
      "27930     Precinct 111  38.876859 -76.965991                        NaN   \n",
      "27931      Precinct 37  38.925020 -77.024172                        NaN   \n",
      "27932      Precinct 47  38.940270 -77.029713                        NaN   \n",
      "\n",
      "                   START_DATE                END_DATE   OBJECTID  \\\n",
      "0      2020/10/27 20:26:31+00  2020/10/27 20:37:29+00  398217667   \n",
      "1      2020/06/29 23:30:04+00  2020/06/30 11:00:09+00  398217668   \n",
      "2      2020/04/27 22:49:30+00                     NaN  398217670   \n",
      "3      2020/07/12 17:36:13+00  2020/07/12 18:10:45+00  398217673   \n",
      "4      2020/09/09 01:30:07+00  2020/09/10 23:00:57+00  398217674   \n",
      "...                       ...                     ...        ...   \n",
      "27928  2020/07/31 19:00:19+00  2020/08/01 15:13:33+00  398740090   \n",
      "27929  2020/10/25 17:00:17+00  2020/10/25 17:10:27+00  398740091   \n",
      "27930  2020/02/03 16:10:39+00  2020/02/03 16:50:48+00  398740098   \n",
      "27931  2020/05/22 17:27:34+00  2020/05/22 18:42:31+00  398740104   \n",
      "27932  2020/05/17 16:00:51+00  2020/05/20 21:00:59+00  398740106   \n",
      "\n",
      "      OCTO_RECORD_ID  offense_summary                OFFENSE_NOSP  \n",
      "0                NaN      non-violent                THEFT_F/AUTO  \n",
      "1                NaN      non-violent                 THEFT/OTHER  \n",
      "2                NaN      non-violent                 THEFT/OTHER  \n",
      "3                NaN      non-violent                THEFT_F/AUTO  \n",
      "4                NaN      non-violent         MOTOR_VEHICLE_THEFT  \n",
      "...              ...              ...                         ...  \n",
      "27928            NaN      non-violent                    BURGLARY  \n",
      "27929            NaN      non-violent                 THEFT/OTHER  \n",
      "27930            NaN      non-violent                    BURGLARY  \n",
      "27931            NaN    violent other  ASSAULT_W/DANGEROUS_WEAPON  \n",
      "27932            NaN      non-violent                 THEFT/OTHER  \n",
      "\n",
      "[27933 rows x 27 columns]\n"
     ]
    }
   ],
   "source": [
    "df['OFFENSE_NOSP'] = df['OFFENSE'].str.replace(\" \", \"_\")\n",
    "\n",
    "print(df)"
   ]
  },
  {
   "cell_type": "markdown",
   "metadata": {},
   "source": [
    "### Transforming column types\n",
    "\n",
    "**Task**: check the type of the `START_DATE` column"
   ]
  },
  {
   "cell_type": "code",
   "execution_count": 51,
   "metadata": {},
   "outputs": [
    {
     "data": {
      "text/plain": [
       "pandas.core.series.Series"
      ]
     },
     "execution_count": 51,
     "metadata": {},
     "output_type": "execute_result"
    }
   ],
   "source": [
    "type(df[\"START_DATE\"])"
   ]
  },
  {
   "cell_type": "markdown",
   "metadata": {},
   "source": [
    "**Task**: recast the `START_DATE` column to datetime, calling this `START_DATE_CLEAN`; coerce errors rather than cleaning the string; check the type of that new col"
   ]
  },
  {
   "cell_type": "code",
   "execution_count": 52,
   "metadata": {},
   "outputs": [
    {
     "name": "stdout",
     "output_type": "stream",
     "text": [
      "datetime64[ns, UTC]\n",
      "               X          Y       CCN              REPORT_DAT      SHIFT  \\\n",
      "0     -76.993094  38.928471  20153901  2020/10/27 20:37:21+00  nighttime   \n",
      "1     -77.027049  38.904911  20095149  2020/06/30 20:46:51+00  nighttime   \n",
      "2     -76.947655  38.896660  20064305  2020/04/27 23:44:04+00  nighttime   \n",
      "3     -77.032861  38.956717  20100388  2020/07/12 18:37:14+00    daytime   \n",
      "4     -76.979766  38.915804  20128992  2020/09/09 18:00:44+00    daytime   \n",
      "...          ...        ...       ...                     ...        ...   \n",
      "27928 -77.040861  38.905205  20109618  2020/08/01 15:12:23+00    daytime   \n",
      "27929 -77.020915  38.902526  20152852  2020/10/25 18:25:58+00    daytime   \n",
      "27930 -76.965994  38.876867  20020481  2020/02/03 16:50:47+00    daytime   \n",
      "27931 -77.024174  38.925028  20075827  2020/05/22 18:42:22+00    daytime   \n",
      "27932 -77.029716  38.940278  20075557  2020/05/22 02:24:34+00  nighttime   \n",
      "\n",
      "       METHOD                     OFFENSE  \\\n",
      "0      OTHERS                THEFT F/AUTO   \n",
      "1      OTHERS                 THEFT/OTHER   \n",
      "2      OTHERS                 THEFT/OTHER   \n",
      "3      OTHERS                THEFT F/AUTO   \n",
      "4      OTHERS         MOTOR VEHICLE THEFT   \n",
      "...       ...                         ...   \n",
      "27928  OTHERS                    BURGLARY   \n",
      "27929  OTHERS                 THEFT/OTHER   \n",
      "27930  OTHERS                    BURGLARY   \n",
      "27931     GUN  ASSAULT W/DANGEROUS WEAPON   \n",
      "27932  OTHERS                 THEFT/OTHER   \n",
      "\n",
      "                                              BLOCK    XBLOCK    YBLOCK  ...  \\\n",
      "0               900 - 999 BLOCK OF IRVING STREET NE  400599.0  140065.0  ...   \n",
      "1               1101 - 1199 BLOCK OF 11TH STREET NW  397654.0  137450.0  ...   \n",
      "2          4000 - 4121 BLOCK OF MINNESOTA AVENUE NE  404541.0  136535.0  ...   \n",
      "3          5500  - 5599 BLOCK OF COLORADO AVENUE NW  397152.0  143201.0  ...   \n",
      "4      2100 - 2131 BLOCK OF WEST VIRGINIA AVENUE NE  401755.0  138659.0  ...   \n",
      "...                                             ...       ...       ...  ...   \n",
      "27928    1130 - 1199 BLOCK OF CONNECTICUT AVENUE NW  396456.0  137483.0  ...   \n",
      "27929                600 - 699 BLOCK OF K STREET NW  398186.0  137185.0  ...   \n",
      "27930              2900 - 2999 BLOCK OF M STREET SE  402951.0  134337.0  ...   \n",
      "27931         700 - 799 BLOCK OF FAIRMONT STREET NW  397904.0  139683.0  ...   \n",
      "27932          4000  - 4099 BLOCK OF 13TH STREET NW  397424.0  141376.0  ...   \n",
      "\n",
      "        LATITUDE  LONGITUDE                        BID  \\\n",
      "0      38.928463 -76.993092                        NaN   \n",
      "1      38.904904 -77.027047                        NaN   \n",
      "2      38.896652 -76.947653                        NaN   \n",
      "3      38.956709 -77.032858                        NaN   \n",
      "4      38.915796 -76.979764                        NaN   \n",
      "...          ...        ...                        ...   \n",
      "27928  38.905197 -77.040859            GOLDEN TRIANGLE   \n",
      "27929  38.902518 -77.020913  MOUNT VERNON TRIANGLE CID   \n",
      "27930  38.876859 -76.965991                        NaN   \n",
      "27931  38.925020 -77.024172                        NaN   \n",
      "27932  38.940270 -77.029713                        NaN   \n",
      "\n",
      "                   START_DATE                END_DATE   OBJECTID  \\\n",
      "0      2020/10/27 20:26:31+00  2020/10/27 20:37:29+00  398217667   \n",
      "1      2020/06/29 23:30:04+00  2020/06/30 11:00:09+00  398217668   \n",
      "2      2020/04/27 22:49:30+00                     NaN  398217670   \n",
      "3      2020/07/12 17:36:13+00  2020/07/12 18:10:45+00  398217673   \n",
      "4      2020/09/09 01:30:07+00  2020/09/10 23:00:57+00  398217674   \n",
      "...                       ...                     ...        ...   \n",
      "27928  2020/07/31 19:00:19+00  2020/08/01 15:13:33+00  398740090   \n",
      "27929  2020/10/25 17:00:17+00  2020/10/25 17:10:27+00  398740091   \n",
      "27930  2020/02/03 16:10:39+00  2020/02/03 16:50:48+00  398740098   \n",
      "27931  2020/05/22 17:27:34+00  2020/05/22 18:42:31+00  398740104   \n",
      "27932  2020/05/17 16:00:51+00  2020/05/20 21:00:59+00  398740106   \n",
      "\n",
      "       OCTO_RECORD_ID offense_summary                OFFENSE_NOSP  \\\n",
      "0                 NaN     non-violent                THEFT_F/AUTO   \n",
      "1                 NaN     non-violent                 THEFT/OTHER   \n",
      "2                 NaN     non-violent                 THEFT/OTHER   \n",
      "3                 NaN     non-violent                THEFT_F/AUTO   \n",
      "4                 NaN     non-violent         MOTOR_VEHICLE_THEFT   \n",
      "...               ...             ...                         ...   \n",
      "27928             NaN     non-violent                    BURGLARY   \n",
      "27929             NaN     non-violent                 THEFT/OTHER   \n",
      "27930             NaN     non-violent                    BURGLARY   \n",
      "27931             NaN   violent other  ASSAULT_W/DANGEROUS_WEAPON   \n",
      "27932             NaN     non-violent                 THEFT/OTHER   \n",
      "\n",
      "               START_DATE_CLEAN  \n",
      "0     2020-10-27 20:26:31+00:00  \n",
      "1     2020-06-29 23:30:04+00:00  \n",
      "2     2020-04-27 22:49:30+00:00  \n",
      "3     2020-07-12 17:36:13+00:00  \n",
      "4     2020-09-09 01:30:07+00:00  \n",
      "...                         ...  \n",
      "27928 2020-07-31 19:00:19+00:00  \n",
      "27929 2020-10-25 17:00:17+00:00  \n",
      "27930 2020-02-03 16:10:39+00:00  \n",
      "27931 2020-05-22 17:27:34+00:00  \n",
      "27932 2020-05-17 16:00:51+00:00  \n",
      "\n",
      "[27933 rows x 28 columns]\n"
     ]
    }
   ],
   "source": [
    "\n",
    "# Convert 'START_DATE' to datetime, creating 'START_DATE_CLEAN'\n",
    "df['START_DATE_CLEAN'] = pd.to_datetime(df['START_DATE'], errors='coerce')\n",
    "\n",
    "# Check the data type of 'START_DATE_CLEAN'\n",
    "print(df['START_DATE_CLEAN'].dtype)\n",
    "\n",
    "# Print the DataFrame\n",
    "print(df)\n"
   ]
  },
  {
   "cell_type": "markdown",
   "metadata": {},
   "source": [
    "**Task:** print the min and max of `START_DATE_CLEAN`. What happens if you try to do this with `START_DATE`?"
   ]
  },
  {
   "cell_type": "code",
   "execution_count": 56,
   "metadata": {},
   "outputs": [
    {
     "data": {
      "text/plain": [
       "Timestamp('1940-02-17 00:00:16+0000', tz='UTC')"
      ]
     },
     "execution_count": 56,
     "metadata": {},
     "output_type": "execute_result"
    }
   ],
   "source": [
    "df[\"START_DATE_CLEAN\"].min()"
   ]
  },
  {
   "cell_type": "code",
   "execution_count": 57,
   "metadata": {},
   "outputs": [
    {
     "data": {
      "text/plain": [
       "Timestamp('2021-01-01 02:30:21+0000', tz='UTC')"
      ]
     },
     "execution_count": 57,
     "metadata": {},
     "output_type": "execute_result"
    }
   ],
   "source": [
    "df[\"START_DATE_CLEAN\"].max()"
   ]
  },
  {
   "cell_type": "markdown",
   "metadata": {},
   "source": [
    "## 3. Row and column filtering "
   ]
  },
  {
   "cell_type": "code",
   "execution_count": 82,
   "metadata": {},
   "outputs": [
    {
     "ename": "TypeError",
     "evalue": "'>=' not supported between instances of 'str' and 'float'",
     "output_type": "error",
     "traceback": [
      "\u001b[0;31m---------------------------------------------------------------------------\u001b[0m",
      "\u001b[0;31mTypeError\u001b[0m                                 Traceback (most recent call last)",
      "Cell \u001b[0;32mIn[82], line 1\u001b[0m\n\u001b[0;32m----> 1\u001b[0m df[\u001b[38;5;124m\"\u001b[39m\u001b[38;5;124mSTART_DATE\u001b[39m\u001b[38;5;124m\"\u001b[39m]\u001b[38;5;241m.\u001b[39mmax()\n",
      "File \u001b[0;32m~/anaconda3/lib/python3.11/site-packages/pandas/core/series.py:6194\u001b[0m, in \u001b[0;36mSeries.max\u001b[0;34m(self, axis, skipna, numeric_only, **kwargs)\u001b[0m\n\u001b[1;32m   6186\u001b[0m \u001b[38;5;129m@doc\u001b[39m(make_doc(\u001b[38;5;124m\"\u001b[39m\u001b[38;5;124mmax\u001b[39m\u001b[38;5;124m\"\u001b[39m, ndim\u001b[38;5;241m=\u001b[39m\u001b[38;5;241m1\u001b[39m))\n\u001b[1;32m   6187\u001b[0m \u001b[38;5;28;01mdef\u001b[39;00m \u001b[38;5;21mmax\u001b[39m(\n\u001b[1;32m   6188\u001b[0m     \u001b[38;5;28mself\u001b[39m,\n\u001b[0;32m   (...)\u001b[0m\n\u001b[1;32m   6192\u001b[0m     \u001b[38;5;241m*\u001b[39m\u001b[38;5;241m*\u001b[39mkwargs,\n\u001b[1;32m   6193\u001b[0m ):\n\u001b[0;32m-> 6194\u001b[0m     \u001b[38;5;28;01mreturn\u001b[39;00m NDFrame\u001b[38;5;241m.\u001b[39mmax(\u001b[38;5;28mself\u001b[39m, axis, skipna, numeric_only, \u001b[38;5;241m*\u001b[39m\u001b[38;5;241m*\u001b[39mkwargs)\n",
      "File \u001b[0;32m~/anaconda3/lib/python3.11/site-packages/pandas/core/generic.py:11953\u001b[0m, in \u001b[0;36mNDFrame.max\u001b[0;34m(self, axis, skipna, numeric_only, **kwargs)\u001b[0m\n\u001b[1;32m  11946\u001b[0m \u001b[38;5;28;01mdef\u001b[39;00m \u001b[38;5;21mmax\u001b[39m(\n\u001b[1;32m  11947\u001b[0m     \u001b[38;5;28mself\u001b[39m,\n\u001b[1;32m  11948\u001b[0m     axis: Axis \u001b[38;5;241m|\u001b[39m \u001b[38;5;28;01mNone\u001b[39;00m \u001b[38;5;241m=\u001b[39m \u001b[38;5;241m0\u001b[39m,\n\u001b[0;32m   (...)\u001b[0m\n\u001b[1;32m  11951\u001b[0m     \u001b[38;5;241m*\u001b[39m\u001b[38;5;241m*\u001b[39mkwargs,\n\u001b[1;32m  11952\u001b[0m ):\n\u001b[0;32m> 11953\u001b[0m     \u001b[38;5;28;01mreturn\u001b[39;00m \u001b[38;5;28mself\u001b[39m\u001b[38;5;241m.\u001b[39m_stat_function(\n\u001b[1;32m  11954\u001b[0m         \u001b[38;5;124m\"\u001b[39m\u001b[38;5;124mmax\u001b[39m\u001b[38;5;124m\"\u001b[39m,\n\u001b[1;32m  11955\u001b[0m         nanops\u001b[38;5;241m.\u001b[39mnanmax,\n\u001b[1;32m  11956\u001b[0m         axis,\n\u001b[1;32m  11957\u001b[0m         skipna,\n\u001b[1;32m  11958\u001b[0m         numeric_only,\n\u001b[1;32m  11959\u001b[0m         \u001b[38;5;241m*\u001b[39m\u001b[38;5;241m*\u001b[39mkwargs,\n\u001b[1;32m  11960\u001b[0m     )\n",
      "File \u001b[0;32m~/anaconda3/lib/python3.11/site-packages/pandas/core/generic.py:11926\u001b[0m, in \u001b[0;36mNDFrame._stat_function\u001b[0;34m(self, name, func, axis, skipna, numeric_only, **kwargs)\u001b[0m\n\u001b[1;32m  11922\u001b[0m nv\u001b[38;5;241m.\u001b[39mvalidate_func(name, (), kwargs)\n\u001b[1;32m  11924\u001b[0m validate_bool_kwarg(skipna, \u001b[38;5;124m\"\u001b[39m\u001b[38;5;124mskipna\u001b[39m\u001b[38;5;124m\"\u001b[39m, none_allowed\u001b[38;5;241m=\u001b[39m\u001b[38;5;28;01mFalse\u001b[39;00m)\n\u001b[0;32m> 11926\u001b[0m \u001b[38;5;28;01mreturn\u001b[39;00m \u001b[38;5;28mself\u001b[39m\u001b[38;5;241m.\u001b[39m_reduce(\n\u001b[1;32m  11927\u001b[0m     func, name\u001b[38;5;241m=\u001b[39mname, axis\u001b[38;5;241m=\u001b[39maxis, skipna\u001b[38;5;241m=\u001b[39mskipna, numeric_only\u001b[38;5;241m=\u001b[39mnumeric_only\n\u001b[1;32m  11928\u001b[0m )\n",
      "File \u001b[0;32m~/anaconda3/lib/python3.11/site-packages/pandas/core/series.py:6134\u001b[0m, in \u001b[0;36mSeries._reduce\u001b[0;34m(self, op, name, axis, skipna, numeric_only, filter_type, **kwds)\u001b[0m\n\u001b[1;32m   6129\u001b[0m     \u001b[38;5;66;03m# GH#47500 - change to TypeError to match other methods\u001b[39;00m\n\u001b[1;32m   6130\u001b[0m     \u001b[38;5;28;01mraise\u001b[39;00m \u001b[38;5;167;01mTypeError\u001b[39;00m(\n\u001b[1;32m   6131\u001b[0m         \u001b[38;5;124mf\u001b[39m\u001b[38;5;124m\"\u001b[39m\u001b[38;5;124mSeries.\u001b[39m\u001b[38;5;132;01m{\u001b[39;00mname\u001b[38;5;132;01m}\u001b[39;00m\u001b[38;5;124m does not allow \u001b[39m\u001b[38;5;132;01m{\u001b[39;00mkwd_name\u001b[38;5;132;01m}\u001b[39;00m\u001b[38;5;124m=\u001b[39m\u001b[38;5;132;01m{\u001b[39;00mnumeric_only\u001b[38;5;132;01m}\u001b[39;00m\u001b[38;5;124m \u001b[39m\u001b[38;5;124m\"\u001b[39m\n\u001b[1;32m   6132\u001b[0m         \u001b[38;5;124m\"\u001b[39m\u001b[38;5;124mwith non-numeric dtypes.\u001b[39m\u001b[38;5;124m\"\u001b[39m\n\u001b[1;32m   6133\u001b[0m     )\n\u001b[0;32m-> 6134\u001b[0m \u001b[38;5;28;01mreturn\u001b[39;00m op(delegate, skipna\u001b[38;5;241m=\u001b[39mskipna, \u001b[38;5;241m*\u001b[39m\u001b[38;5;241m*\u001b[39mkwds)\n",
      "File \u001b[0;32m~/anaconda3/lib/python3.11/site-packages/pandas/core/nanops.py:147\u001b[0m, in \u001b[0;36mbottleneck_switch.__call__.<locals>.f\u001b[0;34m(values, axis, skipna, **kwds)\u001b[0m\n\u001b[1;32m    145\u001b[0m         result \u001b[38;5;241m=\u001b[39m alt(values, axis\u001b[38;5;241m=\u001b[39maxis, skipna\u001b[38;5;241m=\u001b[39mskipna, \u001b[38;5;241m*\u001b[39m\u001b[38;5;241m*\u001b[39mkwds)\n\u001b[1;32m    146\u001b[0m \u001b[38;5;28;01melse\u001b[39;00m:\n\u001b[0;32m--> 147\u001b[0m     result \u001b[38;5;241m=\u001b[39m alt(values, axis\u001b[38;5;241m=\u001b[39maxis, skipna\u001b[38;5;241m=\u001b[39mskipna, \u001b[38;5;241m*\u001b[39m\u001b[38;5;241m*\u001b[39mkwds)\n\u001b[1;32m    149\u001b[0m \u001b[38;5;28;01mreturn\u001b[39;00m result\n",
      "File \u001b[0;32m~/anaconda3/lib/python3.11/site-packages/pandas/core/nanops.py:404\u001b[0m, in \u001b[0;36m_datetimelike_compat.<locals>.new_func\u001b[0;34m(values, axis, skipna, mask, **kwargs)\u001b[0m\n\u001b[1;32m    401\u001b[0m \u001b[38;5;28;01mif\u001b[39;00m datetimelike \u001b[38;5;129;01mand\u001b[39;00m mask \u001b[38;5;129;01mis\u001b[39;00m \u001b[38;5;28;01mNone\u001b[39;00m:\n\u001b[1;32m    402\u001b[0m     mask \u001b[38;5;241m=\u001b[39m isna(values)\n\u001b[0;32m--> 404\u001b[0m result \u001b[38;5;241m=\u001b[39m func(values, axis\u001b[38;5;241m=\u001b[39maxis, skipna\u001b[38;5;241m=\u001b[39mskipna, mask\u001b[38;5;241m=\u001b[39mmask, \u001b[38;5;241m*\u001b[39m\u001b[38;5;241m*\u001b[39mkwargs)\n\u001b[1;32m    406\u001b[0m \u001b[38;5;28;01mif\u001b[39;00m datetimelike:\n\u001b[1;32m    407\u001b[0m     result \u001b[38;5;241m=\u001b[39m _wrap_results(result, orig_values\u001b[38;5;241m.\u001b[39mdtype, fill_value\u001b[38;5;241m=\u001b[39miNaT)\n",
      "File \u001b[0;32m~/anaconda3/lib/python3.11/site-packages/pandas/core/nanops.py:1092\u001b[0m, in \u001b[0;36m_nanminmax.<locals>.reduction\u001b[0;34m(values, axis, skipna, mask)\u001b[0m\n\u001b[1;32m   1087\u001b[0m     \u001b[38;5;28;01mreturn\u001b[39;00m _na_for_min_count(values, axis)\n\u001b[1;32m   1089\u001b[0m values, mask \u001b[38;5;241m=\u001b[39m _get_values(\n\u001b[1;32m   1090\u001b[0m     values, skipna, fill_value_typ\u001b[38;5;241m=\u001b[39mfill_value_typ, mask\u001b[38;5;241m=\u001b[39mmask\n\u001b[1;32m   1091\u001b[0m )\n\u001b[0;32m-> 1092\u001b[0m result \u001b[38;5;241m=\u001b[39m \u001b[38;5;28mgetattr\u001b[39m(values, meth)(axis)\n\u001b[1;32m   1093\u001b[0m result \u001b[38;5;241m=\u001b[39m _maybe_null_out(result, axis, mask, values\u001b[38;5;241m.\u001b[39mshape)\n\u001b[1;32m   1094\u001b[0m \u001b[38;5;28;01mreturn\u001b[39;00m result\n",
      "File \u001b[0;32m~/anaconda3/lib/python3.11/site-packages/numpy/core/_methods.py:41\u001b[0m, in \u001b[0;36m_amax\u001b[0;34m(a, axis, out, keepdims, initial, where)\u001b[0m\n\u001b[1;32m     39\u001b[0m \u001b[38;5;28;01mdef\u001b[39;00m \u001b[38;5;21m_amax\u001b[39m(a, axis\u001b[38;5;241m=\u001b[39m\u001b[38;5;28;01mNone\u001b[39;00m, out\u001b[38;5;241m=\u001b[39m\u001b[38;5;28;01mNone\u001b[39;00m, keepdims\u001b[38;5;241m=\u001b[39m\u001b[38;5;28;01mFalse\u001b[39;00m,\n\u001b[1;32m     40\u001b[0m           initial\u001b[38;5;241m=\u001b[39m_NoValue, where\u001b[38;5;241m=\u001b[39m\u001b[38;5;28;01mTrue\u001b[39;00m):\n\u001b[0;32m---> 41\u001b[0m     \u001b[38;5;28;01mreturn\u001b[39;00m umr_maximum(a, axis, \u001b[38;5;28;01mNone\u001b[39;00m, out, keepdims, initial, where)\n",
      "\u001b[0;31mTypeError\u001b[0m: '>=' not supported between instances of 'str' and 'float'"
     ]
    }
   ],
   "source": [
    "df[\"START_DATE\"].max()\n"
   ]
  },
  {
   "cell_type": "markdown",
   "metadata": {},
   "source": [
    "### Row subsetting\n",
    "\n",
    "**Task**: filter to crime reports about theft using the `is_theft` definition and that are in ward 3"
   ]
  },
  {
   "cell_type": "code",
   "execution_count": 81,
   "metadata": {},
   "outputs": [
    {
     "name": "stdout",
     "output_type": "stream",
     "text": [
      "               X          Y       CCN              REPORT_DAT     SHIFT  \\\n",
      "11    -77.051908  38.924199  20170566  2020/11/30 20:53:51+00   EVENING   \n",
      "18    -77.083768  38.960042  20121641  2020/08/26 03:29:34+00  MIDNIGHT   \n",
      "28    -77.060408  38.938806  20160695  2020/11/10 05:15:06+00  MIDNIGHT   \n",
      "59    -77.074228  38.962589  20035501  2020/02/27 22:44:09+00   EVENING   \n",
      "74    -77.056309  38.933503  20001654  2020/01/03 20:09:51+00   EVENING   \n",
      "...          ...        ...       ...                     ...       ...   \n",
      "27884 -77.100422  38.939076  20082153  2020/06/03 05:33:48+00  MIDNIGHT   \n",
      "27897 -77.079449  38.925868  20122540  2020/08/27 20:48:23+00   EVENING   \n",
      "27900 -77.082455  38.952107  20096992  2020/07/04 23:10:54+00   EVENING   \n",
      "27911 -77.093486  38.945541  20092362  2020/06/24 17:18:29+00       DAY   \n",
      "27914 -77.079947  38.948361  20160319  2020/11/09 15:29:18+00       DAY   \n",
      "\n",
      "       METHOD       OFFENSE                                       BLOCK  \\\n",
      "11     OTHERS   THEFT/OTHER  2600 - 2649 BLOCK OF CONNECTICUT AVENUE NW   \n",
      "18     OTHERS  THEFT F/AUTO         5300 - 5399 BLOCK OF 43RD STREET NW   \n",
      "28     OTHERS   THEFT/OTHER  3700 - 3899 BLOCK OF CONNECTICUT AVENUE NW   \n",
      "59     OTHERS   THEFT/OTHER  5420 - 5499 BLOCK OF CONNECTICUT AVENUE NW   \n",
      "74     OTHERS  THEFT F/AUTO       2700 - 2899 BLOCK OF MACOMB STREET NW   \n",
      "...       ...           ...                                         ...   \n",
      "27884  OTHERS   THEFT/OTHER     5000 - 5099 BLOCK OF SEDGWICK STREET NW   \n",
      "27897  OTHERS   THEFT/OTHER         3900 - 4099 BLOCK OF TUNLAW ROAD NW   \n",
      "27900  OTHERS  THEFT F/AUTO    4200 - 4299 BLOCK OF DAVENPORT STREET NW   \n",
      "27911  OTHERS  THEFT F/AUTO        4700 - 4799 BLOCK OF WINDOM PLACE NW   \n",
      "27914  OTHERS   THEFT/OTHER    4500 - 4537 BLOCK OF WISCONSIN AVENUE NW   \n",
      "\n",
      "         XBLOCK    YBLOCK  ...  BLOCK_GROUP CENSUS_TRACT  VOTING_PRECINCT  \\\n",
      "11     395499.0  139592.0  ...     000501 1        501.0     Precinct 136   \n",
      "18     392740.0  143573.0  ...     001100 2       1100.0      Precinct 32   \n",
      "28     394763.0  141214.0  ...     000600 1        600.0      Precinct 27   \n",
      "59     393567.0  143855.0  ...     001401 1       1401.0      Precinct 50   \n",
      "74     395118.0  140625.0  ...     001304 1       1304.0      Precinct 34   \n",
      "...         ...       ...  ...          ...          ...              ...   \n",
      "27884  391294.0  141247.0  ...     000904 2        904.0       Precinct 9   \n",
      "27897  393111.0  139779.0  ...     000702 1        702.0      Precinct 11   \n",
      "27900  392853.0  142692.0  ...     001004 2       1004.0      Precinct 31   \n",
      "27911  391896.0  141964.0  ...     001003 3       1003.0      Precinct 30   \n",
      "27914  393070.0  142276.0  ...     001004 2       1004.0      Precinct 31   \n",
      "\n",
      "        LATITUDE  LONGITUDE  BID              START_DATE  \\\n",
      "11     38.924191 -77.051906  NaN  2020/11/30 16:45:06+00   \n",
      "18     38.960035 -77.083765  NaN  2020/08/25 22:30:03+00   \n",
      "28     38.938799 -77.060406  NaN  2020/11/10 03:47:06+00   \n",
      "59     38.962581 -77.074226  NaN  2020/02/27 18:50:10+00   \n",
      "74     38.933495 -77.056307  NaN  2020/01/03 19:38:39+00   \n",
      "...          ...        ...  ...                     ...   \n",
      "27884  38.939068 -77.100419  NaN  2020/05/31 10:40:44+00   \n",
      "27897  38.925860 -77.079447  NaN  2020/08/27 16:00:16+00   \n",
      "27900  38.952099 -77.082452  NaN  2020/07/01 17:00:38+00   \n",
      "27911  38.945533 -77.093484  NaN  2020/06/23 17:00:55+00   \n",
      "27914  38.948354 -77.079945  NaN  2020/11/08 20:25:49+00   \n",
      "\n",
      "                     END_DATE   OBJECTID  OCTO_RECORD_ID  \n",
      "11     2020/11/30 17:30:13+00  398217704             NaN  \n",
      "18     2020/08/26 01:00:04+00  398217732             NaN  \n",
      "28     2020/11/10 05:15:44+00  398217791             NaN  \n",
      "59     2020/02/27 22:00:06+00  398217992             NaN  \n",
      "74     2020/01/03 20:10:05+00  398218125             NaN  \n",
      "...                       ...        ...             ...  \n",
      "27884  2020/05/31 12:00:42+00  398739669             NaN  \n",
      "27897  2020/08/27 16:45:02+00  398739733             NaN  \n",
      "27900  2020/07/01 18:15:43+00  398739767             NaN  \n",
      "27911  2020/06/23 19:30:27+00  398739853             NaN  \n",
      "27914  2020/11/08 20:30:51+00  398739863             NaN  \n",
      "\n",
      "[1523 rows x 25 columns]\n"
     ]
    }
   ],
   "source": [
    "# Filter the DataFrame for theft reports in Ward 3\n",
    "\n",
    "is_theft = df.OFFENSE.str.contains(\"THEFT\", case=False)\n",
    "\n",
    "filtered_df = df[(is_theft == True) & (df['WARD'] == 3)]\n",
    "\n",
    "# Print the filtered DataFrame\n",
    "print(filtered_df)\n"
   ]
  },
  {
   "cell_type": "markdown",
   "metadata": {},
   "source": [
    "### Column subsetting\n"
   ]
  },
  {
   "cell_type": "markdown",
   "metadata": {},
   "source": [
    "**Task**: select two columns--`START_DATE` and `END_DATE`--and print the head of the dataframe"
   ]
  },
  {
   "cell_type": "code",
   "execution_count": 66,
   "metadata": {},
   "outputs": [
    {
     "data": {
      "text/html": [
       "<div>\n",
       "<style scoped>\n",
       "    .dataframe tbody tr th:only-of-type {\n",
       "        vertical-align: middle;\n",
       "    }\n",
       "\n",
       "    .dataframe tbody tr th {\n",
       "        vertical-align: top;\n",
       "    }\n",
       "\n",
       "    .dataframe thead th {\n",
       "        text-align: right;\n",
       "    }\n",
       "</style>\n",
       "<table border=\"1\" class=\"dataframe\">\n",
       "  <thead>\n",
       "    <tr style=\"text-align: right;\">\n",
       "      <th></th>\n",
       "      <th>START_DATE</th>\n",
       "      <th>END_DATE</th>\n",
       "    </tr>\n",
       "  </thead>\n",
       "  <tbody>\n",
       "    <tr>\n",
       "      <th>0</th>\n",
       "      <td>2020/10/27 20:26:31+00</td>\n",
       "      <td>2020/10/27 20:37:29+00</td>\n",
       "    </tr>\n",
       "    <tr>\n",
       "      <th>1</th>\n",
       "      <td>2020/06/29 23:30:04+00</td>\n",
       "      <td>2020/06/30 11:00:09+00</td>\n",
       "    </tr>\n",
       "    <tr>\n",
       "      <th>2</th>\n",
       "      <td>2020/04/27 22:49:30+00</td>\n",
       "      <td>NaN</td>\n",
       "    </tr>\n",
       "    <tr>\n",
       "      <th>3</th>\n",
       "      <td>2020/07/12 17:36:13+00</td>\n",
       "      <td>2020/07/12 18:10:45+00</td>\n",
       "    </tr>\n",
       "    <tr>\n",
       "      <th>4</th>\n",
       "      <td>2020/09/09 01:30:07+00</td>\n",
       "      <td>2020/09/10 23:00:57+00</td>\n",
       "    </tr>\n",
       "  </tbody>\n",
       "</table>\n",
       "</div>"
      ],
      "text/plain": [
       "               START_DATE                END_DATE\n",
       "0  2020/10/27 20:26:31+00  2020/10/27 20:37:29+00\n",
       "1  2020/06/29 23:30:04+00  2020/06/30 11:00:09+00\n",
       "2  2020/04/27 22:49:30+00                     NaN\n",
       "3  2020/07/12 17:36:13+00  2020/07/12 18:10:45+00\n",
       "4  2020/09/09 01:30:07+00  2020/09/10 23:00:57+00"
      ]
     },
     "execution_count": 66,
     "metadata": {},
     "output_type": "execute_result"
    }
   ],
   "source": [
    "df[[\"START_DATE\", \"END_DATE\"]].head()"
   ]
  },
  {
   "cell_type": "markdown",
   "metadata": {},
   "source": [
    "**Task**: use list comprehension to automate this a bit and select all columns with the word \"DATE\" in the name; print the head of the dataframe"
   ]
  },
  {
   "cell_type": "code",
   "execution_count": 72,
   "metadata": {},
   "outputs": [
    {
     "data": {
      "text/html": [
       "<div>\n",
       "<style scoped>\n",
       "    .dataframe tbody tr th:only-of-type {\n",
       "        vertical-align: middle;\n",
       "    }\n",
       "\n",
       "    .dataframe tbody tr th {\n",
       "        vertical-align: top;\n",
       "    }\n",
       "\n",
       "    .dataframe thead th {\n",
       "        text-align: right;\n",
       "    }\n",
       "</style>\n",
       "<table border=\"1\" class=\"dataframe\">\n",
       "  <thead>\n",
       "    <tr style=\"text-align: right;\">\n",
       "      <th></th>\n",
       "      <th>START_DATE</th>\n",
       "      <th>END_DATE</th>\n",
       "      <th>START_DATE_CLEAN</th>\n",
       "    </tr>\n",
       "  </thead>\n",
       "  <tbody>\n",
       "    <tr>\n",
       "      <th>0</th>\n",
       "      <td>2020/10/27 20:26:31+00</td>\n",
       "      <td>2020/10/27 20:37:29+00</td>\n",
       "      <td>2020-10-27 20:26:31+00:00</td>\n",
       "    </tr>\n",
       "    <tr>\n",
       "      <th>1</th>\n",
       "      <td>2020/06/29 23:30:04+00</td>\n",
       "      <td>2020/06/30 11:00:09+00</td>\n",
       "      <td>2020-06-29 23:30:04+00:00</td>\n",
       "    </tr>\n",
       "    <tr>\n",
       "      <th>2</th>\n",
       "      <td>2020/04/27 22:49:30+00</td>\n",
       "      <td>NaN</td>\n",
       "      <td>2020-04-27 22:49:30+00:00</td>\n",
       "    </tr>\n",
       "    <tr>\n",
       "      <th>3</th>\n",
       "      <td>2020/07/12 17:36:13+00</td>\n",
       "      <td>2020/07/12 18:10:45+00</td>\n",
       "      <td>2020-07-12 17:36:13+00:00</td>\n",
       "    </tr>\n",
       "    <tr>\n",
       "      <th>4</th>\n",
       "      <td>2020/09/09 01:30:07+00</td>\n",
       "      <td>2020/09/10 23:00:57+00</td>\n",
       "      <td>2020-09-09 01:30:07+00:00</td>\n",
       "    </tr>\n",
       "    <tr>\n",
       "      <th>...</th>\n",
       "      <td>...</td>\n",
       "      <td>...</td>\n",
       "      <td>...</td>\n",
       "    </tr>\n",
       "    <tr>\n",
       "      <th>27928</th>\n",
       "      <td>2020/07/31 19:00:19+00</td>\n",
       "      <td>2020/08/01 15:13:33+00</td>\n",
       "      <td>2020-07-31 19:00:19+00:00</td>\n",
       "    </tr>\n",
       "    <tr>\n",
       "      <th>27929</th>\n",
       "      <td>2020/10/25 17:00:17+00</td>\n",
       "      <td>2020/10/25 17:10:27+00</td>\n",
       "      <td>2020-10-25 17:00:17+00:00</td>\n",
       "    </tr>\n",
       "    <tr>\n",
       "      <th>27930</th>\n",
       "      <td>2020/02/03 16:10:39+00</td>\n",
       "      <td>2020/02/03 16:50:48+00</td>\n",
       "      <td>2020-02-03 16:10:39+00:00</td>\n",
       "    </tr>\n",
       "    <tr>\n",
       "      <th>27931</th>\n",
       "      <td>2020/05/22 17:27:34+00</td>\n",
       "      <td>2020/05/22 18:42:31+00</td>\n",
       "      <td>2020-05-22 17:27:34+00:00</td>\n",
       "    </tr>\n",
       "    <tr>\n",
       "      <th>27932</th>\n",
       "      <td>2020/05/17 16:00:51+00</td>\n",
       "      <td>2020/05/20 21:00:59+00</td>\n",
       "      <td>2020-05-17 16:00:51+00:00</td>\n",
       "    </tr>\n",
       "  </tbody>\n",
       "</table>\n",
       "<p>27933 rows × 3 columns</p>\n",
       "</div>"
      ],
      "text/plain": [
       "                   START_DATE                END_DATE  \\\n",
       "0      2020/10/27 20:26:31+00  2020/10/27 20:37:29+00   \n",
       "1      2020/06/29 23:30:04+00  2020/06/30 11:00:09+00   \n",
       "2      2020/04/27 22:49:30+00                     NaN   \n",
       "3      2020/07/12 17:36:13+00  2020/07/12 18:10:45+00   \n",
       "4      2020/09/09 01:30:07+00  2020/09/10 23:00:57+00   \n",
       "...                       ...                     ...   \n",
       "27928  2020/07/31 19:00:19+00  2020/08/01 15:13:33+00   \n",
       "27929  2020/10/25 17:00:17+00  2020/10/25 17:10:27+00   \n",
       "27930  2020/02/03 16:10:39+00  2020/02/03 16:50:48+00   \n",
       "27931  2020/05/22 17:27:34+00  2020/05/22 18:42:31+00   \n",
       "27932  2020/05/17 16:00:51+00  2020/05/20 21:00:59+00   \n",
       "\n",
       "               START_DATE_CLEAN  \n",
       "0     2020-10-27 20:26:31+00:00  \n",
       "1     2020-06-29 23:30:04+00:00  \n",
       "2     2020-04-27 22:49:30+00:00  \n",
       "3     2020-07-12 17:36:13+00:00  \n",
       "4     2020-09-09 01:30:07+00:00  \n",
       "...                         ...  \n",
       "27928 2020-07-31 19:00:19+00:00  \n",
       "27929 2020-10-25 17:00:17+00:00  \n",
       "27930 2020-02-03 16:10:39+00:00  \n",
       "27931 2020-05-22 17:27:34+00:00  \n",
       "27932 2020-05-17 16:00:51+00:00  \n",
       "\n",
       "[27933 rows x 3 columns]"
      ]
     },
     "execution_count": 72,
     "metadata": {},
     "output_type": "execute_result"
    }
   ],
   "source": [
    "df.loc[:, df.columns.str.contains(\"DATE\")]"
   ]
  },
  {
   "cell_type": "markdown",
   "metadata": {},
   "source": [
    "**Task**: filter reports of crime in `START_DATE_CLEAN` before May 2020 and that are located in ward 1; select the ward and `START_DATE` column and print a random sample of rows"
   ]
  },
  {
   "cell_type": "code",
   "execution_count": 77,
   "metadata": {},
   "outputs": [
    {
     "name": "stdout",
     "output_type": "stream",
     "text": [
      "       WARD              START_DATE\n",
      "4598      1  2020/04/29 19:55:49+00\n",
      "6801      1  2020/01/19 03:37:43+00\n",
      "10561     1  2020/03/05 15:21:06+00\n",
      "22525     1  2020/04/06 17:30:00+00\n",
      "4351      1  2020/02/01 17:00:49+00\n"
     ]
    }
   ],
   "source": [
    "df['START_DATE_CLEAN'] = pd.to_datetime(df['START_DATE'], errors='coerce')\n",
    "\n",
    "# Filter reports before May 2020 and in Ward 1\n",
    "filtered_df = df[(df['START_DATE_CLEAN'] < '2020-05-01') & (df['WARD'] == 1)]\n",
    "\n",
    "# Select 'WARD' and 'START_DATE' columns\n",
    "selected_columns = filtered_df[['WARD', 'START_DATE']]\n",
    "\n",
    "# Print a random sample of rows\n",
    "print(selected_columns.sample(n=5))"
   ]
  }
 ],
 "metadata": {
  "kernelspec": {
   "display_name": "Python 3 (ipykernel)",
   "language": "python",
   "name": "python3"
  },
  "language_info": {
   "codemirror_mode": {
    "name": "ipython",
    "version": 3
   },
   "file_extension": ".py",
   "mimetype": "text/x-python",
   "name": "python",
   "nbconvert_exporter": "python",
   "pygments_lexer": "ipython3",
   "version": "3.11.4"
  }
 },
 "nbformat": 4,
 "nbformat_minor": 4
}
