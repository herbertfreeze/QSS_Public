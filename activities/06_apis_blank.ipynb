{
 "cells": [
  {
   "cell_type": "code",
   "execution_count": 3,
   "metadata": {},
   "outputs": [],
   "source": [
    "## imports\n",
    "import pandas as pd\n",
    "import numpy as np\n",
    "import re\n",
    "import requests\n",
    "import yaml \n",
    "\n",
    "\n",
    "## repeated printouts\n",
    "from IPython.core.interactiveshell import InteractiveShell\n",
    "InteractiveShell.ast_node_interactivity = \"all\""
   ]
  },
  {
   "cell_type": "markdown",
   "metadata": {},
   "source": [
    "# 1. Example 1: no credentials; no wrapper\n",
    "\n",
    "Site: National Assessment of Education Progress (NAEP)\n",
    "\n",
    "Documentation: https://www.nationsreportcard.gov/api_documentation.aspx\n",
    "\n",
    "Base link: https://www.nationsreportcard.gov/DataService/GetAdhocData.aspx "
   ]
  },
  {
   "cell_type": "markdown",
   "metadata": {},
   "source": [
    "## 1.1 Query to pull some data"
   ]
  },
  {
   "cell_type": "code",
   "execution_count": 8,
   "metadata": {},
   "outputs": [
    {
     "data": {
      "text/plain": [
       "'https://www.nationsreportcard.gov/Dataservice/GetAdhocData.aspx?type=data&subject=writing&grade=8&subscale=WRIRP&variable=GENDER&jurisdiction=NP&stattype=MN:MN&Year=2011'"
      ]
     },
     "execution_count": 8,
     "metadata": {},
     "output_type": "execute_result"
    }
   ],
   "source": [
    "## using their example query of 2011 writing scores separated by gender\n",
    "## based on here - https://stackoverflow.com/questions/40836749/pythonic-way-of-writing-a-single-line-long-string\n",
    "## using the ( ) syntax to formulate a long\n",
    "## string without linebreaks added\n",
    "example_naep_query = (\n",
    "'https://www.nationsreportcard.gov/'\n",
    "'Dataservice/GetAdhocData.aspx?'\n",
    "'type=data&subject=writing&grade=8&'\n",
    "'subscale=WRIRP&variable=GENDER&jurisdiction=NP&stattype=MN:MN&Year=2011')\n",
    "\n",
    "\n",
    "example_naep_query\n"
   ]
  },
  {
   "cell_type": "code",
   "execution_count": 6,
   "metadata": {},
   "outputs": [
    {
     "data": {
      "text/plain": [
       "<Response [200]>"
      ]
     },
     "execution_count": 6,
     "metadata": {},
     "output_type": "execute_result"
    },
    {
     "name": "stdout",
     "output_type": "stream",
     "text": [
      "<class 'requests.models.Response'>\n"
     ]
    },
    {
     "data": {
      "text/plain": [
       "{'status': 200,\n",
       " 'result': [{'year': 2011,\n",
       "   'sample': 'R3',\n",
       "   'yearSampleLabel': '2011',\n",
       "   'Cohort': 2,\n",
       "   'CohortLabel': 'Grade 8',\n",
       "   'stattype': 'MN:MN',\n",
       "   'subject': 'WRI',\n",
       "   'grade': 8,\n",
       "   'scale': 'WRIRP',\n",
       "   'jurisdiction': 'NP',\n",
       "   'jurisLabel': 'National public',\n",
       "   'variable': 'GENDER',\n",
       "   'variableLabel': 'Gender',\n",
       "   'varValue': '1',\n",
       "   'varValueLabel': 'Male',\n",
       "   'value': 139.099504632971,\n",
       "   'isStatDisplayable': 1,\n",
       "   'errorFlag': 0},\n",
       "  {'year': 2011,\n",
       "   'sample': 'R3',\n",
       "   'yearSampleLabel': '2011',\n",
       "   'Cohort': 2,\n",
       "   'CohortLabel': 'Grade 8',\n",
       "   'stattype': 'MN:MN',\n",
       "   'subject': 'WRI',\n",
       "   'grade': 8,\n",
       "   'scale': 'WRIRP',\n",
       "   'jurisdiction': 'NP',\n",
       "   'jurisLabel': 'National public',\n",
       "   'variable': 'GENDER',\n",
       "   'variableLabel': 'Gender',\n",
       "   'varValue': '2',\n",
       "   'varValueLabel': 'Female',\n",
       "   'value': 158.567104984955,\n",
       "   'isStatDisplayable': 1,\n",
       "   'errorFlag': 0}]}"
      ]
     },
     "execution_count": 6,
     "metadata": {},
     "output_type": "execute_result"
    },
    {
     "data": {
      "text/html": [
       "<div>\n",
       "<style scoped>\n",
       "    .dataframe tbody tr th:only-of-type {\n",
       "        vertical-align: middle;\n",
       "    }\n",
       "\n",
       "    .dataframe tbody tr th {\n",
       "        vertical-align: top;\n",
       "    }\n",
       "\n",
       "    .dataframe thead th {\n",
       "        text-align: right;\n",
       "    }\n",
       "</style>\n",
       "<table border=\"1\" class=\"dataframe\">\n",
       "  <thead>\n",
       "    <tr style=\"text-align: right;\">\n",
       "      <th></th>\n",
       "      <th>year</th>\n",
       "      <th>sample</th>\n",
       "      <th>yearSampleLabel</th>\n",
       "      <th>Cohort</th>\n",
       "      <th>CohortLabel</th>\n",
       "      <th>stattype</th>\n",
       "      <th>subject</th>\n",
       "      <th>grade</th>\n",
       "      <th>scale</th>\n",
       "      <th>jurisdiction</th>\n",
       "      <th>jurisLabel</th>\n",
       "      <th>variable</th>\n",
       "      <th>variableLabel</th>\n",
       "      <th>varValue</th>\n",
       "      <th>varValueLabel</th>\n",
       "      <th>value</th>\n",
       "      <th>isStatDisplayable</th>\n",
       "      <th>errorFlag</th>\n",
       "    </tr>\n",
       "  </thead>\n",
       "  <tbody>\n",
       "    <tr>\n",
       "      <th>0</th>\n",
       "      <td>2011</td>\n",
       "      <td>R3</td>\n",
       "      <td>2011</td>\n",
       "      <td>2</td>\n",
       "      <td>Grade 8</td>\n",
       "      <td>MN:MN</td>\n",
       "      <td>WRI</td>\n",
       "      <td>8</td>\n",
       "      <td>WRIRP</td>\n",
       "      <td>NP</td>\n",
       "      <td>National public</td>\n",
       "      <td>GENDER</td>\n",
       "      <td>Gender</td>\n",
       "      <td>1</td>\n",
       "      <td>Male</td>\n",
       "      <td>139.099505</td>\n",
       "      <td>1</td>\n",
       "      <td>0</td>\n",
       "    </tr>\n",
       "    <tr>\n",
       "      <th>1</th>\n",
       "      <td>2011</td>\n",
       "      <td>R3</td>\n",
       "      <td>2011</td>\n",
       "      <td>2</td>\n",
       "      <td>Grade 8</td>\n",
       "      <td>MN:MN</td>\n",
       "      <td>WRI</td>\n",
       "      <td>8</td>\n",
       "      <td>WRIRP</td>\n",
       "      <td>NP</td>\n",
       "      <td>National public</td>\n",
       "      <td>GENDER</td>\n",
       "      <td>Gender</td>\n",
       "      <td>2</td>\n",
       "      <td>Female</td>\n",
       "      <td>158.567105</td>\n",
       "      <td>1</td>\n",
       "      <td>0</td>\n",
       "    </tr>\n",
       "  </tbody>\n",
       "</table>\n",
       "</div>"
      ],
      "text/plain": [
       "   year sample yearSampleLabel  Cohort CohortLabel stattype subject  grade  \\\n",
       "0  2011     R3            2011       2     Grade 8    MN:MN     WRI      8   \n",
       "1  2011     R3            2011       2     Grade 8    MN:MN     WRI      8   \n",
       "\n",
       "   scale jurisdiction       jurisLabel variable variableLabel varValue  \\\n",
       "0  WRIRP           NP  National public   GENDER        Gender        1   \n",
       "1  WRIRP           NP  National public   GENDER        Gender        2   \n",
       "\n",
       "  varValueLabel       value  isStatDisplayable  errorFlag  \n",
       "0          Male  139.099505                  1          0  \n",
       "1        Female  158.567105                  1          0  "
      ]
     },
     "execution_count": 6,
     "metadata": {},
     "output_type": "execute_result"
    }
   ],
   "source": [
    "## use requests to call the api\n",
    "naep_resp = requests.get(example_naep_query)\n",
    "naep_resp\n",
    "print(type(naep_resp))\n",
    "\n",
    "## get the json contents of the response \n",
    "## here, we're assuming valid response\n",
    "naep_resp_j = naep_resp.json()\n",
    "naep_resp_j\n",
    "\n",
    "## with result, turn it into a dataframe\n",
    "naep_resp_d = pd.DataFrame(naep_resp_j['result'])\n",
    "naep_resp_d"
   ]
  },
  {
   "cell_type": "markdown",
   "metadata": {},
   "source": [
    "## 1.2 What happens if there's an error in our query?"
   ]
  },
  {
   "cell_type": "code",
   "execution_count": 9,
   "metadata": {},
   "outputs": [
    {
     "data": {
      "text/plain": [
       "'https://www.nationsreportcard.gov/Dataservice/GetAdhocData.aspx?type=data&subject=writing&grade=8&subscale=WRIRP&variable=GENDER&jurisdiction=NP&stattype=MN:MN&Year=2025'"
      ]
     },
     "execution_count": 9,
     "metadata": {},
     "output_type": "execute_result"
    }
   ],
   "source": [
    "## here's a query that from the documentation we know\n",
    "## won't work since i modified year to 2025 which doesnt\n",
    "## exist in the data\n",
    "wrong_naep_query = (\n",
    "'https://www.nationsreportcard.gov/'\n",
    "'Dataservice/GetAdhocData.aspx?'\n",
    "'type=data&subject=writing&grade=8&'\n",
    "'subscale=WRIRP&variable=GENDER&jurisdiction=NP&stattype=MN:MN&Year=2025')\n",
    "\n",
    "wrong_naep_query"
   ]
  },
  {
   "cell_type": "code",
   "execution_count": 10,
   "metadata": {},
   "outputs": [
    {
     "data": {
      "text/plain": [
       "<Response [200]>"
      ]
     },
     "execution_count": 10,
     "metadata": {},
     "output_type": "execute_result"
    }
   ],
   "source": [
    "## use requests to call the api\n",
    "naep_wrong_resp = requests.get(wrong_naep_query)\n",
    "naep_wrong_resp"
   ]
  },
  {
   "cell_type": "code",
   "execution_count": 8,
   "metadata": {},
   "outputs": [],
   "source": [
    "## in the case of this particular api,\n",
    "## the call returns some response but\n",
    "## when we try to extract the json containing\n",
    "## status or results, we get in an error\n",
    "#naep_wrong_resp.json() # uncomment to see error"
   ]
  },
  {
   "cell_type": "markdown",
   "metadata": {},
   "source": [
    "### 1.2.2 More all-purpose way of allowing remainder of calls to run: try, except"
   ]
  },
  {
   "cell_type": "code",
   "execution_count": 12,
   "metadata": {},
   "outputs": [
    {
     "name": "stdout",
     "output_type": "stream",
     "text": [
      "Failed to get result from API due to error:\n"
     ]
    }
   ],
   "source": [
    "## putting it in a try; except as general error catching\n",
    "try:\n",
    "    results = naep_wrong_resp.json()['result']\n",
    "except Exception as e:\n",
    "    print('Failed to get result from API due to error:')\n",
    "    #print(e) # or just: pass\n",
    "    pass"
   ]
  },
  {
   "cell_type": "markdown",
   "metadata": {},
   "source": [
    "### 1.2.3 Can usually also find more targeted way but that varies more across APIs"
   ]
  },
  {
   "cell_type": "code",
   "execution_count": 13,
   "metadata": {},
   "outputs": [
    {
     "data": {
      "text/plain": [
       "'{\"status\":400,\"result\": \"System.Exception: The query \\'SELECT DISTINCT Framework FROM Cycles WHERE Subject=\\'WRI\\' AND Cohort=2 AND CONVERT(VARCHAR(10),Year)+Sample IN (\\'2025R3\\')\\' did not return exactly 1 framework. Make sure you can trend the years defined for the given subject and cohort.\\r\\n   at NRCDataService3.GetAdhocData.GetFramework(NDEContext& ndeContext, String subjectCode, List`1 yearSamples, String cohort) in C:\\\\projects\\\\ndecore2015\\\\NRCDataService2\\\\GetAdhocData.aspx.cs:line 2091\\r\\n   at NRCDataService3.GetAdhocData.PopulateBaseOrchestratorRequest() in C:\\\\projects\\\\ndecore2015\\\\NRCDataService2\\\\GetAdhocData.aspx.cs:line 1781\\r\\n   at NRCDataService3.GetAdhocData.ConstructRequest_Datapoint() in C:\\\\projects\\\\ndecore2015\\\\NRCDataService2\\\\GetAdhocData.aspx.cs:line 628\\r\\n   at NRCDataService3.GetAdhocData.Page_Load(Object sender, EventArgs e) in C:\\\\projects\\\\ndecore2015\\\\NRCDataService2\\\\GetAdhocData.aspx.cs:line 179\"}'"
      ]
     },
     "execution_count": 13,
     "metadata": {},
     "output_type": "execute_result"
    },
    {
     "data": {
      "text/plain": [
       "'{\"status\":200,\"result\": [{\"year\":2011,\"sample\":\"R3\",\"yearSampleLabel\":\"2011\",\"Cohort\":2,\"CohortLabel\":\"Grade 8\",\"stattype\":\"MN:MN\",\"subject\":\"WRI\",\"grade\":8,\"scale\":\"WRIRP\",\"jurisdiction\":\"NP\",\"jurisLabel\":\"National public\",\"variable\":\"GENDER\",\"variableLabel\":\"Gender\",\"varValue\":\"1\",\"varValueLabel\":\"Male\",\"value\":139.099504632971,\"isStatDisplayable\":1,\"errorFlag\":0},{\"year\":2011,\"sample\":\"R3\",\"yearSampleLabel\":\"2011\",\"Cohort\":2,\"CohortLabel\":\"Grade 8\",\"stattype\":\"MN:MN\",\"subject\":\"WRI\",\"grade\":8,\"scale\":\"WRIRP\",\"jurisdiction\":\"NP\",\"jurisLabel\":\"National public\",\"variable\":\"GENDER\",\"variableLabel\":\"Gender\",\"varValue\":\"2\",\"varValueLabel\":\"Female\",\"value\":158.567104984955,\"isStatDisplayable\":1,\"errorFlag\":0}]}'"
      ]
     },
     "execution_count": 13,
     "metadata": {},
     "output_type": "execute_result"
    },
    {
     "name": "stdout",
     "output_type": "stream",
     "text": [
      "NAEP results not found\n"
     ]
    }
   ],
   "source": [
    "## if we wanted do more specific error catching,\n",
    "## see that the status == 400 actually appears here\n",
    "## so could write if else along those lines\n",
    "naep_wrong_resp.text\n",
    "naep_resp.text\n",
    "\n",
    "if \"System.Exception\" in naep_wrong_resp.text:\n",
    "    print(\"NAEP results not found\")"
   ]
  },
  {
   "cell_type": "markdown",
   "metadata": {},
   "source": [
    "## Activity 1: writing a function to make multiple, sequential calls\n",
    "\n",
    "- Say we want to pull the data for grades 4, 8, and 12\n",
    "- How can we write a function that iterates over a list of those grades and pulls the data for each grade?\n",
    "\n",
    "**Note**: an ideal function would have arguments for each parameter in the API like subject, subscale, etc. Here we can leave those other parts constant"
   ]
  },
  {
   "cell_type": "code",
   "execution_count": 2,
   "metadata": {},
   "outputs": [],
   "source": [
    "example_naep_query = (\n",
    "'https://www.nationsreportcard.gov/'\n",
    "'Dataservice/GetAdhocData.aspx?'\n",
    "'type=data&subject=writing&grade=8&'\n",
    "'subscale=WRIRP&variable=GENDER&jurisdiction=NP&stattype=MN:MN&Year=2011')\n"
   ]
  },
  {
   "cell_type": "code",
   "execution_count": 9,
   "metadata": {},
   "outputs": [
    {
     "data": {
      "text/plain": [
       "'https://www.nationsreportcard.gov/Dataservice/GetAdhocData.aspx?type=data&subject=writing&subscale=WRIRP&variable=GENDER&jurisdiction=NP&stattype=MN:MN&Year=2011&grade=4'"
      ]
     },
     "execution_count": 9,
     "metadata": {},
     "output_type": "execute_result"
    }
   ],
   "source": [
    "def naep_api_calls(grades: list,\n",
    "                   baseurl = 'https://www.nationsreportcard.gov/Dataservice/GetAdhocData.aspx?',\n",
    "                   query_part1 = 'type=data&subject=writing',\n",
    "                   query_part3 = '&subscale=WRIRP&variable=GENDER&jurisdiction=NP&stattype=MN:MN&Year=2011'):\n",
    "                       \n",
    "    '''This function calls the NAEP API to get data on writing scores for the grade requested in 2011.\n",
    "    \n",
    "    Parameters:\n",
    "        baseurl (str): default URL for NAEP or similar API\n",
    "        query_part1 (str): first batch of arguments\n",
    "        grades (list of int): what grades to get data on\n",
    "        query_part3 (str): third batch of arguments\n",
    "    Returns:\n",
    "        DataFrame with the results'''\n",
    "    \n",
    "    dflist = []\n",
    "    \n",
    "    for grade in grades:\n",
    "        naep_query = baseurl + query_part1  + query_part3 + ('&grade=' + str(grade))\n",
    "        naep_resp = requests.get(naep_query)\n",
    "\n",
    "        \n",
    "        #if \"System.Exception\" in naep_resp.text:\n",
    "        #    print(f\"NAEP results not found for grade {str(grade)}, please try with grade in range of 1-12\")\n",
    "        #else:\n",
    "        try:\n",
    "            naep_resp_df = pd.DataFrame(naep_resp.json()['result'])\n",
    "            dflist.append(naep_resp_df)\n",
    "            print(\"success!\")\n",
    "            print(naep_query)\n",
    "        except Exception as e:\n",
    "            print(\"Failed to get result from API for grade {} due to error:\".format(str(grade)))\n",
    "            print(e)\n",
    "            print(naep_query)\n",
    "        \n",
    "    combined_result_df = pd.concat(dflist)\n",
    "    \n",
    "    return(combined_result_df)\n",
    "\n",
    "\n",
    "naep_api_calls(grades = [4,8,12])"
   ]
  },
  {
   "cell_type": "markdown",
   "metadata": {},
   "source": [
    "# 2. Example 2: needs credentials; no wrapper"
   ]
  },
  {
   "cell_type": "markdown",
   "metadata": {},
   "source": [
    "Create an account here: https://www.yelp.com/developers/v3/manage_app"
   ]
  },
  {
   "cell_type": "code",
   "execution_count": 29,
   "metadata": {},
   "outputs": [],
   "source": [
    "## get the key\n",
    "API_KEY = \"1Gh9eKod5_-vX1otu_KEzcFphmJC58Kwb2qsJbcKPn76WUI7eW6biYfFe6R6Pmx_7NRaaQraF-Co_eLwcjvLl-DGQ4A0wHE8Z6WlFm9Bum6lEFvh9wiLufavouMtZXYx\""
   ]
  },
  {
   "cell_type": "code",
   "execution_count": 30,
   "metadata": {},
   "outputs": [
    {
     "data": {
      "text/plain": [
       "<Response [200]>"
      ]
     },
     "execution_count": 30,
     "metadata": {},
     "output_type": "execute_result"
    }
   ],
   "source": [
    "## use documentation to define what to search\n",
    "## doc: https://www.yelp.com/developers/documentation/v3/business_search\n",
    "## write the query \n",
    "base_url = \"https://api.yelp.com/v3/businesses/search?\"\n",
    "my_name = \"restaurants\"\n",
    "my_location = \"Hanover,NH,03755\"\n",
    "yelp_genquery = ('{base_url}'\n",
    "                'term={name}'\n",
    "                '&location={loc}').format(base_url = base_url,\n",
    "                name = my_name,\n",
    "                loc = my_location)\n",
    "\n",
    "## use requests to call the API; here, we're\n",
    "## passing it our credentials (structure varies\n",
    "## by API and telling it to only return 10 results\n",
    "## (max is 50 at once)\n",
    "header = {'Authorization': f\"Bearer {API_KEY}\"}\n",
    "yelp_genresp = requests.get(yelp_genquery, headers = header)\n",
    "yelp_genresp\n",
    "\n",
    "## then, look at structure of response\n",
    "yelp_genjson = yelp_genresp.json()\n"
   ]
  },
  {
   "cell_type": "code",
   "execution_count": 33,
   "metadata": {},
   "outputs": [
    {
     "data": {
      "text/plain": [
       "{'id': '8ybF6YyRldtZmU9jil4xlg',\n",
       " 'alias': 'mollys-restaurant-and-bar-hanover',\n",
       " 'name': \"Molly's Restaurant & Bar\",\n",
       " 'image_url': 'https://s3-media4.fl.yelpcdn.com/bphoto/TJLrrA6z-SnPgZfrs2GQNQ/o.jpg',\n",
       " 'is_closed': False,\n",
       " 'url': 'https://www.yelp.com/biz/mollys-restaurant-and-bar-hanover?adjust_creative=AYAiHNSGxz_RRHzq3cO46w&utm_campaign=yelp_api_v3&utm_medium=api_v3_business_search&utm_source=AYAiHNSGxz_RRHzq3cO46w',\n",
       " 'review_count': 502,\n",
       " 'categories': [{'alias': 'tradamerican', 'title': 'American'},\n",
       "  {'alias': 'burgers', 'title': 'Burgers'},\n",
       "  {'alias': 'pizza', 'title': 'Pizza'}],\n",
       " 'rating': 4.0,\n",
       " 'coordinates': {'latitude': 43.701144, 'longitude': -72.2894249},\n",
       " 'transactions': ['delivery'],\n",
       " 'price': '$$',\n",
       " 'location': {'address1': '43 South Main St',\n",
       "  'address2': '',\n",
       "  'address3': '',\n",
       "  'city': 'Hanover',\n",
       "  'zip_code': '03755',\n",
       "  'country': 'US',\n",
       "  'state': 'NH',\n",
       "  'display_address': ['43 South Main St', 'Hanover, NH 03755']},\n",
       " 'phone': '+16036432570',\n",
       " 'display_phone': '(603) 643-2570',\n",
       " 'distance': 250.8301601841674}"
      ]
     },
     "execution_count": 33,
     "metadata": {},
     "output_type": "execute_result"
    },
    {
     "data": {
      "text/html": [
       "<div>\n",
       "<style scoped>\n",
       "    .dataframe tbody tr th:only-of-type {\n",
       "        vertical-align: middle;\n",
       "    }\n",
       "\n",
       "    .dataframe tbody tr th {\n",
       "        vertical-align: top;\n",
       "    }\n",
       "\n",
       "    .dataframe thead th {\n",
       "        text-align: right;\n",
       "    }\n",
       "</style>\n",
       "<table border=\"1\" class=\"dataframe\">\n",
       "  <thead>\n",
       "    <tr style=\"text-align: right;\">\n",
       "      <th></th>\n",
       "      <th>id</th>\n",
       "      <th>alias</th>\n",
       "      <th>name</th>\n",
       "      <th>image_url</th>\n",
       "      <th>is_closed</th>\n",
       "      <th>url</th>\n",
       "      <th>review_count</th>\n",
       "      <th>categories</th>\n",
       "      <th>rating</th>\n",
       "      <th>coordinates</th>\n",
       "      <th>transactions</th>\n",
       "      <th>price</th>\n",
       "      <th>location</th>\n",
       "      <th>phone</th>\n",
       "      <th>display_phone</th>\n",
       "      <th>distance</th>\n",
       "    </tr>\n",
       "  </thead>\n",
       "  <tbody>\n",
       "    <tr>\n",
       "      <th>0</th>\n",
       "      <td>8ybF6YyRldtZmU9jil4xlg</td>\n",
       "      <td>mollys-restaurant-and-bar-hanover</td>\n",
       "      <td>Molly's Restaurant &amp; Bar</td>\n",
       "      <td>https://s3-media4.fl.yelpcdn.com/bphoto/TJLrrA...</td>\n",
       "      <td>False</td>\n",
       "      <td>https://www.yelp.com/biz/mollys-restaurant-and...</td>\n",
       "      <td>502</td>\n",
       "      <td>[{'alias': 'tradamerican', 'title': 'American'...</td>\n",
       "      <td>4.0</td>\n",
       "      <td>{'latitude': 43.701144, 'longitude': -72.2894249}</td>\n",
       "      <td>[delivery]</td>\n",
       "      <td>$$</td>\n",
       "      <td>{'address1': '43 South Main St', 'address2': '...</td>\n",
       "      <td>+16036432570</td>\n",
       "      <td>(603) 643-2570</td>\n",
       "      <td>250.830160</td>\n",
       "    </tr>\n",
       "    <tr>\n",
       "      <th>1</th>\n",
       "      <td>neBEWvgHNhsXIBImCYx_6A</td>\n",
       "      <td>murphy-s-on-the-green-hanover</td>\n",
       "      <td>Murphy’s on the Green</td>\n",
       "      <td>https://s3-media2.fl.yelpcdn.com/bphoto/76DCQr...</td>\n",
       "      <td>False</td>\n",
       "      <td>https://www.yelp.com/biz/murphy-s-on-the-green...</td>\n",
       "      <td>173</td>\n",
       "      <td>[{'alias': 'newamerican', 'title': 'New Americ...</td>\n",
       "      <td>4.0</td>\n",
       "      <td>{'latitude': 43.702, 'longitude': -72.2894949}</td>\n",
       "      <td>[delivery]</td>\n",
       "      <td>$$</td>\n",
       "      <td>{'address1': '11 S Main St', 'address2': '', '...</td>\n",
       "      <td>+16036434075</td>\n",
       "      <td>(603) 643-4075</td>\n",
       "      <td>295.207523</td>\n",
       "    </tr>\n",
       "    <tr>\n",
       "      <th>2</th>\n",
       "      <td>5WW4g_LRwau29KyjZGLyAA</td>\n",
       "      <td>sawtooth-kitchen-hanover</td>\n",
       "      <td>Sawtooth Kitchen</td>\n",
       "      <td>https://s3-media3.fl.yelpcdn.com/bphoto/61MNG4...</td>\n",
       "      <td>False</td>\n",
       "      <td>https://www.yelp.com/biz/sawtooth-kitchen-hano...</td>\n",
       "      <td>19</td>\n",
       "      <td>[{'alias': 'chickenshop', 'title': 'Chicken Sh...</td>\n",
       "      <td>4.0</td>\n",
       "      <td>{'latitude': 43.70158, 'longitude': -72.289641}</td>\n",
       "      <td>[]</td>\n",
       "      <td>NaN</td>\n",
       "      <td>{'address1': '33 S Main St', 'address2': '', '...</td>\n",
       "      <td>+16036435134</td>\n",
       "      <td>(603) 643-5134</td>\n",
       "      <td>242.607552</td>\n",
       "    </tr>\n",
       "    <tr>\n",
       "      <th>3</th>\n",
       "      <td>XVGEEIH5rVB2QzW-qywcJw</td>\n",
       "      <td>base-camp-cafe-hanover</td>\n",
       "      <td>Base Camp Cafe</td>\n",
       "      <td>https://s3-media1.fl.yelpcdn.com/bphoto/p8_YiE...</td>\n",
       "      <td>False</td>\n",
       "      <td>https://www.yelp.com/biz/base-camp-cafe-hanove...</td>\n",
       "      <td>239</td>\n",
       "      <td>[{'alias': 'himalayan', 'title': 'Himalayan/Ne...</td>\n",
       "      <td>4.5</td>\n",
       "      <td>{'latitude': 43.700626, 'longitude': -72.2887803}</td>\n",
       "      <td>[delivery]</td>\n",
       "      <td>$$</td>\n",
       "      <td>{'address1': '3 Lebanon St', 'address2': 'Ste ...</td>\n",
       "      <td>+16036432007</td>\n",
       "      <td>(603) 643-2007</td>\n",
       "      <td>196.139758</td>\n",
       "    </tr>\n",
       "    <tr>\n",
       "      <th>4</th>\n",
       "      <td>34j_2nRCVQBTKafJvncZlg</td>\n",
       "      <td>pine-restaurant-hanover-2</td>\n",
       "      <td>PINE Restaurant</td>\n",
       "      <td>https://s3-media2.fl.yelpcdn.com/bphoto/rD7w_r...</td>\n",
       "      <td>False</td>\n",
       "      <td>https://www.yelp.com/biz/pine-restaurant-hanov...</td>\n",
       "      <td>219</td>\n",
       "      <td>[{'alias': 'newamerican', 'title': 'New Americ...</td>\n",
       "      <td>3.5</td>\n",
       "      <td>{'latitude': 43.7024572, 'longitude': -72.2875...</td>\n",
       "      <td>[delivery]</td>\n",
       "      <td>$$$</td>\n",
       "      <td>{'address1': '2 E Wheelock St', 'address2': No...</td>\n",
       "      <td>+16036468000</td>\n",
       "      <td>(603) 646-8000</td>\n",
       "      <td>256.004291</td>\n",
       "    </tr>\n",
       "  </tbody>\n",
       "</table>\n",
       "</div>"
      ],
      "text/plain": [
       "                       id                              alias  \\\n",
       "0  8ybF6YyRldtZmU9jil4xlg  mollys-restaurant-and-bar-hanover   \n",
       "1  neBEWvgHNhsXIBImCYx_6A      murphy-s-on-the-green-hanover   \n",
       "2  5WW4g_LRwau29KyjZGLyAA           sawtooth-kitchen-hanover   \n",
       "3  XVGEEIH5rVB2QzW-qywcJw             base-camp-cafe-hanover   \n",
       "4  34j_2nRCVQBTKafJvncZlg          pine-restaurant-hanover-2   \n",
       "\n",
       "                       name  \\\n",
       "0  Molly's Restaurant & Bar   \n",
       "1     Murphy’s on the Green   \n",
       "2          Sawtooth Kitchen   \n",
       "3            Base Camp Cafe   \n",
       "4           PINE Restaurant   \n",
       "\n",
       "                                           image_url  is_closed  \\\n",
       "0  https://s3-media4.fl.yelpcdn.com/bphoto/TJLrrA...      False   \n",
       "1  https://s3-media2.fl.yelpcdn.com/bphoto/76DCQr...      False   \n",
       "2  https://s3-media3.fl.yelpcdn.com/bphoto/61MNG4...      False   \n",
       "3  https://s3-media1.fl.yelpcdn.com/bphoto/p8_YiE...      False   \n",
       "4  https://s3-media2.fl.yelpcdn.com/bphoto/rD7w_r...      False   \n",
       "\n",
       "                                                 url  review_count  \\\n",
       "0  https://www.yelp.com/biz/mollys-restaurant-and...           502   \n",
       "1  https://www.yelp.com/biz/murphy-s-on-the-green...           173   \n",
       "2  https://www.yelp.com/biz/sawtooth-kitchen-hano...            19   \n",
       "3  https://www.yelp.com/biz/base-camp-cafe-hanove...           239   \n",
       "4  https://www.yelp.com/biz/pine-restaurant-hanov...           219   \n",
       "\n",
       "                                          categories  rating  \\\n",
       "0  [{'alias': 'tradamerican', 'title': 'American'...     4.0   \n",
       "1  [{'alias': 'newamerican', 'title': 'New Americ...     4.0   \n",
       "2  [{'alias': 'chickenshop', 'title': 'Chicken Sh...     4.0   \n",
       "3  [{'alias': 'himalayan', 'title': 'Himalayan/Ne...     4.5   \n",
       "4  [{'alias': 'newamerican', 'title': 'New Americ...     3.5   \n",
       "\n",
       "                                         coordinates transactions price  \\\n",
       "0  {'latitude': 43.701144, 'longitude': -72.2894249}   [delivery]    $$   \n",
       "1     {'latitude': 43.702, 'longitude': -72.2894949}   [delivery]    $$   \n",
       "2    {'latitude': 43.70158, 'longitude': -72.289641}           []   NaN   \n",
       "3  {'latitude': 43.700626, 'longitude': -72.2887803}   [delivery]    $$   \n",
       "4  {'latitude': 43.7024572, 'longitude': -72.2875...   [delivery]   $$$   \n",
       "\n",
       "                                            location         phone  \\\n",
       "0  {'address1': '43 South Main St', 'address2': '...  +16036432570   \n",
       "1  {'address1': '11 S Main St', 'address2': '', '...  +16036434075   \n",
       "2  {'address1': '33 S Main St', 'address2': '', '...  +16036435134   \n",
       "3  {'address1': '3 Lebanon St', 'address2': 'Ste ...  +16036432007   \n",
       "4  {'address1': '2 E Wheelock St', 'address2': No...  +16036468000   \n",
       "\n",
       "    display_phone    distance  \n",
       "0  (603) 643-2570  250.830160  \n",
       "1  (603) 643-4075  295.207523  \n",
       "2  (603) 643-5134  242.607552  \n",
       "3  (603) 643-2007  196.139758  \n",
       "4  (603) 646-8000  256.004291  "
      ]
     },
     "execution_count": 33,
     "metadata": {},
     "output_type": "execute_result"
    }
   ],
   "source": [
    "## example business\n",
    "yelp_genjson['businesses'][0]\n",
    "\n",
    "## more automatic way of summarizing but things end up in lists\n",
    "## within columns for things like categories\n",
    "yelp_gendf = pd.DataFrame(yelp_genjson['businesses'])\n",
    "yelp_gendf.head()"
   ]
  },
  {
   "cell_type": "code",
   "execution_count": 34,
   "metadata": {},
   "outputs": [
    {
     "data": {
      "text/html": [
       "<div>\n",
       "<style scoped>\n",
       "    .dataframe tbody tr th:only-of-type {\n",
       "        vertical-align: middle;\n",
       "    }\n",
       "\n",
       "    .dataframe tbody tr th {\n",
       "        vertical-align: top;\n",
       "    }\n",
       "\n",
       "    .dataframe thead th {\n",
       "        text-align: right;\n",
       "    }\n",
       "</style>\n",
       "<table border=\"1\" class=\"dataframe\">\n",
       "  <thead>\n",
       "    <tr style=\"text-align: right;\">\n",
       "      <th></th>\n",
       "      <th>id</th>\n",
       "      <th>alias</th>\n",
       "      <th>name</th>\n",
       "      <th>image_url</th>\n",
       "      <th>url</th>\n",
       "      <th>price</th>\n",
       "      <th>phone</th>\n",
       "      <th>display_phone</th>\n",
       "    </tr>\n",
       "  </thead>\n",
       "  <tbody>\n",
       "    <tr>\n",
       "      <th>8ybF6YyRldtZmU9jil4xlg</th>\n",
       "      <td>8ybF6YyRldtZmU9jil4xlg</td>\n",
       "      <td>mollys-restaurant-and-bar-hanover</td>\n",
       "      <td>Molly's Restaurant &amp; Bar</td>\n",
       "      <td>https://s3-media4.fl.yelpcdn.com/bphoto/TJLrrA...</td>\n",
       "      <td>https://www.yelp.com/biz/mollys-restaurant-and...</td>\n",
       "      <td>$$</td>\n",
       "      <td>+16036432570</td>\n",
       "      <td>(603) 643-2570</td>\n",
       "    </tr>\n",
       "    <tr>\n",
       "      <th>neBEWvgHNhsXIBImCYx_6A</th>\n",
       "      <td>neBEWvgHNhsXIBImCYx_6A</td>\n",
       "      <td>murphy-s-on-the-green-hanover</td>\n",
       "      <td>Murphy’s on the Green</td>\n",
       "      <td>https://s3-media2.fl.yelpcdn.com/bphoto/76DCQr...</td>\n",
       "      <td>https://www.yelp.com/biz/murphy-s-on-the-green...</td>\n",
       "      <td>$$</td>\n",
       "      <td>+16036434075</td>\n",
       "      <td>(603) 643-4075</td>\n",
       "    </tr>\n",
       "    <tr>\n",
       "      <th>5WW4g_LRwau29KyjZGLyAA</th>\n",
       "      <td>5WW4g_LRwau29KyjZGLyAA</td>\n",
       "      <td>sawtooth-kitchen-hanover</td>\n",
       "      <td>Sawtooth Kitchen</td>\n",
       "      <td>https://s3-media3.fl.yelpcdn.com/bphoto/61MNG4...</td>\n",
       "      <td>https://www.yelp.com/biz/sawtooth-kitchen-hano...</td>\n",
       "      <td>NaN</td>\n",
       "      <td>+16036435134</td>\n",
       "      <td>(603) 643-5134</td>\n",
       "    </tr>\n",
       "    <tr>\n",
       "      <th>XVGEEIH5rVB2QzW-qywcJw</th>\n",
       "      <td>XVGEEIH5rVB2QzW-qywcJw</td>\n",
       "      <td>base-camp-cafe-hanover</td>\n",
       "      <td>Base Camp Cafe</td>\n",
       "      <td>https://s3-media1.fl.yelpcdn.com/bphoto/p8_YiE...</td>\n",
       "      <td>https://www.yelp.com/biz/base-camp-cafe-hanove...</td>\n",
       "      <td>$$</td>\n",
       "      <td>+16036432007</td>\n",
       "      <td>(603) 643-2007</td>\n",
       "    </tr>\n",
       "    <tr>\n",
       "      <th>34j_2nRCVQBTKafJvncZlg</th>\n",
       "      <td>34j_2nRCVQBTKafJvncZlg</td>\n",
       "      <td>pine-restaurant-hanover-2</td>\n",
       "      <td>PINE Restaurant</td>\n",
       "      <td>https://s3-media2.fl.yelpcdn.com/bphoto/rD7w_r...</td>\n",
       "      <td>https://www.yelp.com/biz/pine-restaurant-hanov...</td>\n",
       "      <td>$$$</td>\n",
       "      <td>+16036468000</td>\n",
       "      <td>(603) 646-8000</td>\n",
       "    </tr>\n",
       "    <tr>\n",
       "      <th>vMyN7JL5cJExJORgIobbQg</th>\n",
       "      <td>vMyN7JL5cJExJORgIobbQg</td>\n",
       "      <td>tuk-tuk-thai-cuisine-hanover</td>\n",
       "      <td>Tuk Tuk Thai Cuisine</td>\n",
       "      <td>https://s3-media4.fl.yelpcdn.com/bphoto/--bUG3...</td>\n",
       "      <td>https://www.yelp.com/biz/tuk-tuk-thai-cuisine-...</td>\n",
       "      <td>$$</td>\n",
       "      <td>+16032779192</td>\n",
       "      <td>(603) 277-9192</td>\n",
       "    </tr>\n",
       "    <tr>\n",
       "      <th>EAE-lFuMDeDIIlDtVba79w</th>\n",
       "      <td>EAE-lFuMDeDIIlDtVba79w</td>\n",
       "      <td>dunks-hanover</td>\n",
       "      <td>Dunks</td>\n",
       "      <td>https://s3-media2.fl.yelpcdn.com/bphoto/LQKTe7...</td>\n",
       "      <td>https://www.yelp.com/biz/dunks-hanover?adjust_...</td>\n",
       "      <td>NaN</td>\n",
       "      <td>+16032779102</td>\n",
       "      <td>(603) 277-9102</td>\n",
       "    </tr>\n",
       "  </tbody>\n",
       "</table>\n",
       "</div>"
      ],
      "text/plain": [
       "                                            id  \\\n",
       "8ybF6YyRldtZmU9jil4xlg  8ybF6YyRldtZmU9jil4xlg   \n",
       "neBEWvgHNhsXIBImCYx_6A  neBEWvgHNhsXIBImCYx_6A   \n",
       "5WW4g_LRwau29KyjZGLyAA  5WW4g_LRwau29KyjZGLyAA   \n",
       "XVGEEIH5rVB2QzW-qywcJw  XVGEEIH5rVB2QzW-qywcJw   \n",
       "34j_2nRCVQBTKafJvncZlg  34j_2nRCVQBTKafJvncZlg   \n",
       "vMyN7JL5cJExJORgIobbQg  vMyN7JL5cJExJORgIobbQg   \n",
       "EAE-lFuMDeDIIlDtVba79w  EAE-lFuMDeDIIlDtVba79w   \n",
       "\n",
       "                                                    alias  \\\n",
       "8ybF6YyRldtZmU9jil4xlg  mollys-restaurant-and-bar-hanover   \n",
       "neBEWvgHNhsXIBImCYx_6A      murphy-s-on-the-green-hanover   \n",
       "5WW4g_LRwau29KyjZGLyAA           sawtooth-kitchen-hanover   \n",
       "XVGEEIH5rVB2QzW-qywcJw             base-camp-cafe-hanover   \n",
       "34j_2nRCVQBTKafJvncZlg          pine-restaurant-hanover-2   \n",
       "vMyN7JL5cJExJORgIobbQg       tuk-tuk-thai-cuisine-hanover   \n",
       "EAE-lFuMDeDIIlDtVba79w                      dunks-hanover   \n",
       "\n",
       "                                            name  \\\n",
       "8ybF6YyRldtZmU9jil4xlg  Molly's Restaurant & Bar   \n",
       "neBEWvgHNhsXIBImCYx_6A     Murphy’s on the Green   \n",
       "5WW4g_LRwau29KyjZGLyAA          Sawtooth Kitchen   \n",
       "XVGEEIH5rVB2QzW-qywcJw            Base Camp Cafe   \n",
       "34j_2nRCVQBTKafJvncZlg           PINE Restaurant   \n",
       "vMyN7JL5cJExJORgIobbQg      Tuk Tuk Thai Cuisine   \n",
       "EAE-lFuMDeDIIlDtVba79w                     Dunks   \n",
       "\n",
       "                                                                image_url  \\\n",
       "8ybF6YyRldtZmU9jil4xlg  https://s3-media4.fl.yelpcdn.com/bphoto/TJLrrA...   \n",
       "neBEWvgHNhsXIBImCYx_6A  https://s3-media2.fl.yelpcdn.com/bphoto/76DCQr...   \n",
       "5WW4g_LRwau29KyjZGLyAA  https://s3-media3.fl.yelpcdn.com/bphoto/61MNG4...   \n",
       "XVGEEIH5rVB2QzW-qywcJw  https://s3-media1.fl.yelpcdn.com/bphoto/p8_YiE...   \n",
       "34j_2nRCVQBTKafJvncZlg  https://s3-media2.fl.yelpcdn.com/bphoto/rD7w_r...   \n",
       "vMyN7JL5cJExJORgIobbQg  https://s3-media4.fl.yelpcdn.com/bphoto/--bUG3...   \n",
       "EAE-lFuMDeDIIlDtVba79w  https://s3-media2.fl.yelpcdn.com/bphoto/LQKTe7...   \n",
       "\n",
       "                                                                      url  \\\n",
       "8ybF6YyRldtZmU9jil4xlg  https://www.yelp.com/biz/mollys-restaurant-and...   \n",
       "neBEWvgHNhsXIBImCYx_6A  https://www.yelp.com/biz/murphy-s-on-the-green...   \n",
       "5WW4g_LRwau29KyjZGLyAA  https://www.yelp.com/biz/sawtooth-kitchen-hano...   \n",
       "XVGEEIH5rVB2QzW-qywcJw  https://www.yelp.com/biz/base-camp-cafe-hanove...   \n",
       "34j_2nRCVQBTKafJvncZlg  https://www.yelp.com/biz/pine-restaurant-hanov...   \n",
       "vMyN7JL5cJExJORgIobbQg  https://www.yelp.com/biz/tuk-tuk-thai-cuisine-...   \n",
       "EAE-lFuMDeDIIlDtVba79w  https://www.yelp.com/biz/dunks-hanover?adjust_...   \n",
       "\n",
       "                       price         phone   display_phone  \n",
       "8ybF6YyRldtZmU9jil4xlg    $$  +16036432570  (603) 643-2570  \n",
       "neBEWvgHNhsXIBImCYx_6A    $$  +16036434075  (603) 643-4075  \n",
       "5WW4g_LRwau29KyjZGLyAA   NaN  +16036435134  (603) 643-5134  \n",
       "XVGEEIH5rVB2QzW-qywcJw    $$  +16036432007  (603) 643-2007  \n",
       "34j_2nRCVQBTKafJvncZlg   $$$  +16036468000  (603) 646-8000  \n",
       "vMyN7JL5cJExJORgIobbQg    $$  +16032779192  (603) 277-9192  \n",
       "EAE-lFuMDeDIIlDtVba79w   NaN  +16032779102  (603) 277-9102  "
      ]
     },
     "execution_count": 34,
     "metadata": {},
     "output_type": "execute_result"
    }
   ],
   "source": [
    "## more data-specific way of summarizing\n",
    "## we're doing a simple approach and just retaining\n",
    "## cols that have a simple str structure\n",
    "## if doing for real, would want to extract things\n",
    "def clean_yelp_json(one_biz):\n",
    "\n",
    "    ## restrict to str cols\n",
    "    d_str = {key:value for key, value in one_biz.items()\n",
    "             if type(value) == str}\n",
    "    \n",
    "    df_str = pd.DataFrame(d_str, index = [d_str['id']])\n",
    "    return(df_str)\n",
    "\n",
    "yelp_stronly = [clean_yelp_json(one_b) for one_b in yelp_genjson['businesses']]\n",
    "yelp_stronly_df = pd.concat(yelp_stronly)\n",
    "\n",
    "yelp_stronly_df.head(7)\n"
   ]
  },
  {
   "cell_type": "markdown",
   "metadata": {},
   "source": [
    "# Activity 2: pull restaurants in a different location\n",
    "\n",
    "- Try running a business search query for your hometown or another place by constructing a query similar to `yelp_genquery` but changing the location parameter\n",
    "- Other endpoints require feeding what's called the business' fusion id into the API. Take an id from `yelp_stronly.id` and use the documentation here to pull the reviews for that business: https://docs.developer.yelp.com/reference/v3_business_reviews\n",
    "- **Challenge**: generalize the previous step by writing a function that (1) takes a list of business ids as an input, (2) calls the reviews API for each id, (3) returns the results, and (4) rowbinds all results, i.e. turns them into a single, usable DataFrame"
   ]
  },
  {
   "cell_type": "code",
   "execution_count": null,
   "metadata": {},
   "outputs": [],
   "source": [
    "# your code here"
   ]
  }
 ],
 "metadata": {
  "kernelspec": {
   "display_name": "Python 3 (ipykernel)",
   "language": "python",
   "name": "python3"
  },
  "language_info": {
   "codemirror_mode": {
    "name": "ipython",
    "version": 3
   },
   "file_extension": ".py",
   "mimetype": "text/x-python",
   "name": "python",
   "nbconvert_exporter": "python",
   "pygments_lexer": "ipython3",
   "version": "3.11.4"
  }
 },
 "nbformat": 4,
 "nbformat_minor": 4
}
